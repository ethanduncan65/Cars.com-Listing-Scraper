{
 "cells": [
  {
   "cell_type": "markdown",
   "metadata": {
    "hideCode": true,
    "hidePrompt": true
   },
   "source": [
    "# Cars.com Listing Scraper\n",
    "\n",
    "Instructions: \n",
    "* Run first cell below and select the make of the car\n",
    "* Run second cell and then select model, min/max year, zip code, and search distance\n",
    "* Run the final two cells to display the data frame and interactive plot"
   ]
  },
  {
   "cell_type": "code",
   "execution_count": 1,
   "metadata": {
    "hideCode": true,
    "hidePrompt": true,
    "scrolled": true
   },
   "outputs": [
    {
     "data": {
      "application/vnd.jupyter.widget-view+json": {
       "model_id": "32c377542d664e09a8773b532f03d951",
       "version_major": 2,
       "version_minor": 0
      },
      "text/plain": [
       "Dropdown(description='Select Make:', options=('Acura', 'Alfa Romeo', 'Audi', 'BMW', 'Buick', 'Cadilac', 'Chevr…"
      ]
     },
     "metadata": {},
     "output_type": "display_data"
    }
   ],
   "source": [
    "from bs4 import BeautifulSoup as soup  # ...\n",
    "from urllib.request import urlopen as uReq  # ...\n",
    "import ipywidgets as widgets\n",
    "import pandas as pd\n",
    "from datetime import datetime\n",
    "import time\n",
    "import matplotlib.pyplot as plt\n",
    "import numpy as np\n",
    "import math\n",
    "\n",
    "# Create dropdown menu widget for user to select make \n",
    "widgetMake = widgets.Dropdown(\n",
    "    options=['Acura', 'Alfa Romeo', 'Audi', 'BMW', 'Buick', 'Cadilac', 'Chevrolet', 'Chrysler', 'Dodge', 'Fiat', 'Ford', 'Genesis', 'GMC', 'Honda', 'Hummer', 'Hyundai', 'Infiniti', 'Jaguar', 'Jeep', 'Kia', 'Land Rover', 'Lexus', 'Lincoln', 'Maserati', 'Mazda', 'Mercedes Benz', 'MINI', 'Mitsubishi', 'Nissan', 'Porsche', 'Scion', 'Subaru', 'Tesla', 'Toyota', 'Volkswagen', 'Volvo'],\n",
    "    description='Select Make:',\n",
    "    disabled=False,\n",
    ")\n",
    "# Display the widget\n",
    "display(widgetMake)"
   ]
  },
  {
   "cell_type": "code",
   "execution_count": 2,
   "metadata": {
    "hideCode": true,
    "hidePrompt": true
   },
   "outputs": [
    {
     "data": {
      "application/vnd.jupyter.widget-view+json": {
       "model_id": "6e2fc4d0a77f43009e845999cb0be24f",
       "version_major": 2,
       "version_minor": 0
      },
      "text/plain": [
       "Dropdown(description='Select Model:', options=('Avenger', 'Caliber', 'Caravan', 'Challenger', 'Charger', 'Dako…"
      ]
     },
     "metadata": {},
     "output_type": "display_data"
    },
    {
     "data": {
      "application/vnd.jupyter.widget-view+json": {
       "model_id": "eb409238dce84ef980928f4682fbe098",
       "version_major": 2,
       "version_minor": 0
      },
      "text/plain": [
       "Dropdown(description='Min. Year:', options=('None', '2021', '2020', '2019', '2018', '2017', '2016', '2015', '2…"
      ]
     },
     "metadata": {},
     "output_type": "display_data"
    },
    {
     "data": {
      "application/vnd.jupyter.widget-view+json": {
       "model_id": "d862d174aca94bf780d784bbfca4a041",
       "version_major": 2,
       "version_minor": 0
      },
      "text/plain": [
       "Dropdown(description='Max. Year:', options=('None', '2021', '2020', '2019', '2018', '2017', '2016', '2015', '2…"
      ]
     },
     "metadata": {},
     "output_type": "display_data"
    },
    {
     "data": {
      "application/vnd.jupyter.widget-view+json": {
       "model_id": "d35a785e2aca487dbbaca2ea28d05171",
       "version_major": 2,
       "version_minor": 0
      },
      "text/plain": [
       "Text(value='', description='Zip Code:')"
      ]
     },
     "metadata": {},
     "output_type": "display_data"
    },
    {
     "data": {
      "application/vnd.jupyter.widget-view+json": {
       "model_id": "b4af19dc09a24426ade61013d1afa2a7",
       "version_major": 2,
       "version_minor": 0
      },
      "text/plain": [
       "Dropdown(description='Distance:', options=('All (nationwide)', '10 miles', '20 miles', '30 miles', '40 miles',…"
      ]
     },
     "metadata": {},
     "output_type": "display_data"
    }
   ],
   "source": [
    "car_dict = {\n",
    "    \"Acura\": [\"CL\", \"ILX\", \"ILX Hybrid\", \"Integra\", \"Legend\", \"MDX\", \"MDX Sport Hybrid\", \"NSX\", \"RDX\", \"RL\", \"RLX\", \"RLX Sport Hybrid\", \"RSX\", \"TL\", \"TLX\", \"TSX\", \"ZDX\"],\n",
    "    \"Alfa Romeo\": [\"Giulia\", \"Stelvio\"],\n",
    "    \"Audi\": [\"A3\", \"A4\", \"A5\", \"A6\", \"A7\", \"A8\", \"Q3\", \"Q5\", \"Q7\", \"Q8\", \"R8\", \"S3\", \"S4\", \"S5\", \"S6\", \"S7\", \"S8\", \"SQ5\", \"TT\", \"TTS\"],\n",
    "    \"BMW\": [\"128\", \"135\", \"228\", \"228 Gran Coupe\", \"230\", \"320\", \"325\", \"328\", \"328 Gran Turismo\", \"328d\", \"330\", \"330 Gran Turismo\", \"330e\", \"335\", \"335 Gran Turismo\", \"340\", \"340 Gran Turismo\", \"428\", \"428 Gran Coupe\", \"430\", \"430 Gran Coupe\", \"435\", \"435 Gran Coupe\", \"440\", \"440 Gran Coupe\", \"525\", \"528\", \"530\", \"530e\", \"535\", \"535 Gran Turismo\", \"535d\", \"540\", \"550\", \"640\", \"640 Gran Coupe\", \"640 Gran Turismo\", \"645\", \"650\", \"650 Gran Coupe\", \"740\", \"740e\", \"750\", \"840\", \"840 Gran Coupe\", \"ALPINA B7\", \"M2\", \"M235\", \"M235 Gran Coupe\", \"M240\", \"M3\", \"M340\", \"M4\", \"M440\", \"M5\", \"M550\", \"M6\", \"M6 Gran Coupe\", \"M760\", \"M8\", \"M8 Gran Coupe\", \"M850\", \"M850 Gran Coupe\", \"X1\", \"X2\", \"X3\", \"X3 M\", \"X3 PHEV\", \"X4\", \"X4 M\", \"X5 M\", \"X5 PHEV\", \"X5 eDrive\", \"X6\", \"X6 M\", \"X7\", \"Z3\", \"Z4\", \"Z4 M\", \"Z8\", \"i3\", \"i8\"],\n",
    "    \"Buick\": [\"Enclave\", \"Encore\", \"Encore GX\", \"Envision\", \"LaCrosse\", \"Lucerne\", \"Regal\", \"Verano\"],\n",
    "    \"Cadillac\": [\"ATS\", \"CT4\", \"CT5\", \"CT6\", \"CTS\", \"DTS\", \"Escalade\", \"Escalade ESV\", \"Escalade EXT\", \"SRX\", \"XT4\", \"XT5\", \"XT6\", \"XTS\"],\n",
    "    \"Chevrolet\": [\"Avalanche\", \"Blazer\", \"Bolt EV\", \"Camaro\", \"Colorado\", \"Corvette\", \"Corvette Stingray\", \"Cruze\", \"Cruze Limited\", \"Equinox\", \"Impala\", \"Impala Limited\", \"Malibu\", \"Malibu Limited\", \"Silverado 1500\", \"Silverado 1500 LD\", \"Silverado 2500\", \"Silverado 3500\", \"Sonic\", \"Spark\", \"Suburban\", \"Tahoe\", \"Trailblazer\", \"Traverse\", \"Trax\", \"Volt\"],\n",
    "    \"Chrysler\": [\"200\", \"300\", \"300C\", \"300M\", \"Aspen\", \"Crossfire\", \"PT Cruiser\", \"Pacifica\", \"Pacifica Hybrid\", \"Sebring\", \"Voyager\"],\n",
    "    \"Dodge\": [\"Avenger\", \"Caliber\", \"Caravan\", \"Challenger\", \"Charger\", \"Dakota\", \"Dart\", \"Durango\", \"Grand Caravan\", \"Journey\", \"Magnum\", \"Nitro\", \"Ram 1500\", \"Ram 2500\", \"Ram 3500\", \"Stratus\", \"Viper\"],\n",
    "    \"Fiat\": [\"500\", \"500C\", \"500L\", \"500X\", \"500e\"],\n",
    "    \"Ford\": [\"Bronco\", \"Bronco Sport\", \"C-Max Energi\", \"C-Max Hybrid\", \"Crown Victoria\", \"E150\", \"E250\", \"E350 Super Duty\", \"EcoSport\", \"Edge\", \"Escape\", \"Excursion\", \"Expedition\", \"Expedition EL\", \"Expedition Max\", \"Explorer\", \"Explorer Sport Trac\", \"F-150\", \"F-250\", \"F-350\", \"F-450\", \"Fiesta\", \"Flex\", \"Focus\", \"Focus RS\", \"Focus ST\", \"Fusion\", \"Fusion Energi\", \"Fusion Hybrid\", \"Mustang\", \"Ranger\", \"Shelby GT350\", \"Shelby GT500\", \"Taurus\", \"Thunderbird\", \"Transit Connect\", \"Transit-150\", \"Transit-250\", \"Transit-350\"],\n",
    "    \"Genesis\": [\"G70\", \"G80\", \"G90\", \"GV70\", \"GV80\"],\n",
    "    \"GMC\": [\"Acadia\", \"Acadia Limited\", \"Canyon\", \"Envoy\", \"Sierra 1500\", \"Seierra 1500 Limited\", \"Sierra 2500\", \"Sierra 3500\", \"Terrain\", \"Yukon\", \"Yukon XL\"],\n",
    "    \"Honda\": [\"Accord\", \"Accord Hybrid\", \"CR-V\", \"CR-V Hybrid\", \"CR-Z\", \"Civic\", \"Civic Hybrid\", \"Civic Si\", \"Civic Type R\", \"Crosstour\", \"Element\", \"Fit\", \"HR-V\", \"Insight\", \"Odyssey\", \"Passport\", \"Pilot\", \"Ridgeline\"],\n",
    "    \"Hummer\": [\"H1\", \"H2\", \"H3\"],\n",
    "    \"Hyundai\": [\"Accent\", \"Elantra\", \"Elantra GT\", \"Genesis\", \"Genesis Coupe\", \"Ioniq EV\", \"Ioniq Hybrid\", \"Kona\", \"Kona EV\", \"Palisade\", \"Sante Fe\", \"Sante Fe Sport\", \"Sonata\", \"Sonata Hybrid\", \"Tuscon\", \"Veloster\"],\n",
    "    \"Infiniti\": [\"EX35\", \"EX37\", \"FX35\", \"FX37\", \"FX45\", \"FX50\", \"G20\", \"G25\", \"G25x\", \"G35\", \"G35x\", \"G37\", \"G37x\", \"I30\", \"I35\", \"JX35\", \"M30\", \"M35\", \"M35x\", \"M37\", \"M37x\", \"M45\", \"Q40\", \"Q45\", \"Q50\", \"Q50 Hybrid\", \"Q60\", \"Q70\", \"Q70L\", \"QX30\", \"QX50\", \"QX60\", \"QX60 Hybrid\", \"QX70\", \"QX80\", ],    \n",
    "    \"Jaguar\": [\"E-PACE\", \"F-PACE\", \"F-TYPE\", \"I-PACE\", \"S-TYPE\", \"X-TYPE\", \"XE\", \"XF\", \"XJ\", \"XJ6\", \"XJ8\", \"XJR\", \"XJS\", \"XK\", \"XK8\", \"XKE\", \"XKR\"],\n",
    "    \"Jeep\": [\"Cherokee\", \"Commander\", \"Compass\", \"Gladiator\", \"Grand Cherokee\", \"Liberty\", \"Patriot\", \"Renegade\", \"Wrangler\", \"Wrangler JK\", \"Wrangler JK Unlimited\", \"Wrangler Unlimited\"],        \n",
    "    \"Kia\": [\"Amanti\", \"Borrego\", \"Cadenza\", \"Carnival\", \"Forte\", \"Forte Koup\", \"K5\", \"K900\", \"Niro\", \"Niro EV\", \"Optima\", \"Optima Hybrid\", \"Rio\", \"Rondo\", \"Sedona\", \"Seltos\", \"Sorento\", \"Soul\", \"Sportage\", \"Stinger\", \"Telluride\"],\n",
    "    \"Land Rover\": [\"Defender\", \"Discovery\", \"Discovery Sport\", \"LR2\", \"LR3\", \"LR4\", \"Range Rover\", \"Range Rover Evoque\", \"Range Rover Sport\", \"Range Rover Velar\"],\n",
    "    \"Lexus\": [\"CT 200h\", \"ES 250\", \"ES 300\", \"ES 300h\", \"ES 330\", \"ES 350\", \"GS 350\", \"GX 460\", \"GX 470\", \"IS 200t\", \"IS 250\", \"IS 300\", \"IS 350\", \"LC 500\", \"LS 430\", \"LS 460\", \"LS 500\", \"LX 470\", \"LX 570\", \"NX 200t\", \"NX 300\", \"NX 300h\", \"RC 200t\", \"RC 300\", \"RC 350\", \"RC F\", \"RX 300\", \"RX 330\", \"RX 350\", \"RX 350L\", \"RX 400h\", \"RX 450h\", \"RX 450hL\", \"SC 430\", \"UX 200\", \"UX 250h\"],\n",
    "    \"Lincoln\": [\"Aviator\", \"Continental\", \"Corsair\", \"MKC\", \"MKS\", \"MKT\", \"MKX\", \"MKZ\", \"MKZ Hyrbid\", \"Nautilus\", \"Navigator\", \"Navigator L\", \"Town Car\"],\n",
    "    \"Maserati\": [\"Ghibli\", \"GranTurismo\", \"Levante\", \"Quattroporte\"],\n",
    "    \"Mazda\": [\"CX-3\", \"CX-30\", \"CX-5\", \"CX-7\", \"CX-9\", \"MX-5 Miata\", \"MX-5 Miata RF\", \"Mazda2\", \"Mazda3\", \"Mazda5\", \"Mazda6\", \"RX-7\", \"RX-8\", \"Tribute\"],\n",
    "    \"Mercedes Benz\": [\"A-Class\", \"AMG C 43\", \"AMG C 63\", \"AMG CLA 35\", \"AMG CLA 45\", \"AMG CLS 53\", \"AMG CLS 63\", \"AMG E 43\", \"AMG E 53\", \"AMG E 63\", \"AMG G 63\", \"AMG G 65\", \"AMG GLA 35\", \"AMG GLA 45\", \"AMG GLC 43\", \"AMG GLC 63\", \"AMG GLE 43\", \"AMG GLE 53\", \"AMG GLE 63\", \"AMG GLS 63\", \"AMG GT\", \"AMG S\", \"C-Class\", \"CL-Class\", \"CLA 250\", \"CLA-Class\", \"CLK-Class\", \"CLS-Class\", \"E-Class\", \"G-Class\", \"GL-Class\", \"GLA 250\", \"GLA-Class\", \"GLB 250\", \"GLB 300\", \"GLC-Class\", \"GLE-Class\", \"GLK-Class\", \"GLS 450\", \"GLS 550\", \"M-Class\", \"S-Class\", \"SL-Class\", \"SLK-Class\", \"Sprinter\"],\n",
    "    \"MINI\": [\"Clubman\", \"Convertible\", \"Cooper\", \"Cooper S\", \"Countryman\", \"Hardtop\", \"Paceman\", \"Roadster\"],\n",
    "    \"Mitsubishi\": [\"Eclipse\", \"Eclipse Cross\", \"Galant\", \"Lancer\", \"Lancer Evolution\", \"Mirage\", \"Mirage G4\", \"Outlander\", \"Outlander PHEV\", \"Outlander Sport\"],\n",
    "    \"Nissan\": [\"350Z\", \"370Z\", \"Altima\", \"Altima Hybrid\", \"Armada\", \"Cube\", \"Frontier\", \"GT-R\", \"Juke\", \"Kicks\", \"Leaf\", \"Maxima\", \"Murano\", \"NV200\", \"Pathfinder\", \"Quest\", \"Rogue\", \"Rogue Select\", \"Rogue Sport\", \"Sentra\", \"Titan\", \"Titan XD\", \"Versa\", \"Versa Note\", \"Xterra\"],\n",
    "    \"Porsche\": [\"718 Boxster\", \"718 Cayman\", \"911\", \"Boxster\", \"Cayenne\", \"Cayman\", \"Macan\", \"Panamera\", \"Taycan\"],\n",
    "    \"Scion\": [\"FR-S\", \"iA\", \"iM\", \"iQ\", \"tC\", \"xA\", \"xB\", \"xD\"],        \n",
    "    \"Subaru\": [\"Ascent\", \"BRZ\", \"Crosstrek\", \"Forester\", \"Impreza\", \"Impreza WRX\", \"Impreza WRX STI\", \"Legacy\", \"Outback\", \"Tribeca\", \"WRX\", \"WRX STI\", \"XV Crosstrek Hybrid\"],\n",
    "    \"Tesla\": [\"Model 3\", \"Model S\", \"Model X\", \"Model Y\", \"Roadster\"],\n",
    "    \"Toyota\": [\"4Runner\", \"Avalon\", \"Avalon Hybrid\", \"C-HR\", \"Camary\", \"Camary Hybrid\", \"Corolla\", \"Carolla Hatchback\", \"Carolla Hybrid\", \"Carolla iM\", \"FJ Cruiser\", \"Highlander\", \"Highlander Hybrid\", \"Land Cruiser\", \"Matrix\", \"Prius\", \"Prius Prime\", \"Prius c\", \"Prius v\", \"RAV4\", \"RAV4 Hybrid\", \"Sequoia\", \"Sienna\", \"Supra\", \"Tacoma\", \"Tundra\", \"Venza\", \"Yaris\", \"Yaris Sedan\", \"Yaris iA\"],\n",
    "    \"Volkswagen\": [\"Arteon\", \"Atlas\", \"Atlas Cross Sport\", \"Bettle\", \"CC\", \"Cabrio\", \"Eos\", \"GTI\", \"Golf\", \"Golf Alltrack\", \"Golf GTI\", \"Golf R\", \"Golf SportWagen\", \"Jetta\", \"Jetta GLI\", \"Jetta SportWagen\", \"Passat\", \"Tiguan\", \"Tiguan Limited\", \"Touareg\", \"e-Golf\"],\n",
    "    \"Volvo\": [\"C30\", \"C70\", \"S40\", \"S60\", \"S60 Inscription\", \"S70\", \"S80\", \"S90\", \"V40\", \"V50\", \"V60\", \"V60 Cross Country\", \"V70\", \"V90\", \"V90 Cross Country\", \"XC40\", \"XC60\", \"XC70\", \"XC90\"]\n",
    "}\n",
    "\n",
    "# Create dropdown menu widget for user to select model \n",
    "widgetModel = widgets.Dropdown(\n",
    "    options=car_dict.get(widgetMake.value),\n",
    "    description='Select Model:',\n",
    "    disabled=False,\n",
    ")\n",
    "# Display the widget\n",
    "display(widgetModel)\n",
    "\n",
    "# Create dropdown menu widget for user to select min. year \n",
    "widgetMinYear = widgets.Dropdown(\n",
    "    options=[\"None\", \"2021\", \"2020\", \"2019\", \"2018\", \"2017\", \"2016\", \"2015\", \"2014\", \"2013\", \"2012\", \"2011\", \"2010\", \"2009\", \"2008\", \"2007\", \"2006\", \"2005\", \"2004\", \"2003\", \"2002\", \"2001\", \"2000\", \"1999\", \"1998\", \"1997\", \"1996\", \"1995\", \"1994\", \"1993\", \"1992\", \"1991\", \"1990\", \"1989\", \"1988\", \"1987\", \"1986\", \"1985\", \"1983\", \"1982\", \"1981\", \"1980\"],\n",
    "    description='Min. Year:',\n",
    "    disabled=False,\n",
    ")\n",
    "# Display the widget\n",
    "display(widgetMinYear)\n",
    "\n",
    "# Create dropdown menu widget for user to max. year \n",
    "widgetMaxYear = widgets.Dropdown(\n",
    "    options=[\"None\", \"2021\", \"2020\", \"2019\", \"2018\", \"2017\", \"2016\", \"2015\", \"2014\", \"2013\", \"2012\", \"2011\", \"2010\", \"2009\", \"2008\", \"2007\", \"2006\", \"2005\", \"2004\", \"2003\", \"2002\", \"2001\", \"2000\", \"1999\", \"1998\", \"1997\", \"1996\", \"1995\", \"1994\", \"1993\", \"1992\", \"1991\", \"1990\", \"1989\", \"1988\", \"1987\", \"1986\", \"1985\", \"1983\", \"1982\", \"1981\", \"1980\"],\n",
    "    description='Max. Year:',\n",
    "    disabled=False,\n",
    ")\n",
    "# Display the widget\n",
    "display(widgetMaxYear)\n",
    "\n",
    "# Create dropdown menu widget for user to select zip code \n",
    "widgetZipCode = widgets.Text(\n",
    "    description='Zip Code:',\n",
    "    disabled=False,\n",
    ")\n",
    "# Display the widget\n",
    "display(widgetZipCode)\n",
    "\n",
    "# Create dropdown menu widget for user to select distance \n",
    "widgetDistance = widgets.Dropdown(\n",
    "    options=[\"All (nationwide)\", \"10 miles\", \"20 miles\", \"30 miles\", \"40 miles\", \"50 miles\", \"75 miles\", \"100 miles\", \"150 miles\", \"200 miles\", \"250 miles\", \"500 miles\"],\n",
    "    description='Distance:',\n",
    "    disabled=False,\n",
    ")\n",
    "# Display the widget\n",
    "display(widgetDistance)"
   ]
  },
  {
   "cell_type": "code",
   "execution_count": 5,
   "metadata": {
    "hideCode": true,
    "hidePrompt": true
   },
   "outputs": [
    {
     "name": "stdout",
     "output_type": "stream",
     "text": [
      "     Year                                               Name Mileage  \\\n",
      "0    2011                                  Dodge Ram 1500 ST  101546   \n",
      "1    2011                                 Dodge Ram 1500 SLT  154514   \n",
      "2    2010                               Dodge Ram 1500 Sport   75374   \n",
      "3    2010                                 Dodge Ram 1500 SLT  176386   \n",
      "4    2006                                 Dodge Ram 1500 SLT  105140   \n",
      "5    2008                             Dodge Ram 1500 Laramie  120181   \n",
      "6    2010                             Dodge Ram 1500 Laramie   95702   \n",
      "7    2008                        Dodge Ram 1500 SLT Quad Cab  132478   \n",
      "8    2011                                    Dodge Ram 1500   101067   \n",
      "9    2011                                 Dodge Ram 1500 SLT  157353   \n",
      "10   2008                                 Dodge Ram 1500 SLT   92909   \n",
      "11   1999                            Dodge Ram 1500 Club Cab  186016   \n",
      "12   2008                        Dodge Ram 1500 SLT Quad Cab  152696   \n",
      "13   2008                                 Dodge Ram 1500 SLT   92816   \n",
      "14   2011                                  Dodge Ram 1500 ST   84948   \n",
      "15   2011                                 Dodge Ram 1500 SLT  112229   \n",
      "16   2005                                 Dodge Ram 1500 SLT   16541   \n",
      "17   2010                                 Dodge Ram 1500 SLT  169000   \n",
      "18   2011                                 Dodge Ram 1500 SLT  153075   \n",
      "19   2008                         Dodge Ram 1500 ST Quad Cab  171225   \n",
      "20   2009                               Dodge Ram 1500 Sport  154889   \n",
      "21   2008                                 Dodge Ram 1500 SLT  145564   \n",
      "22   2011                            Dodge Ram 1500 BIG HORN  131623   \n",
      "23   2006                                 Dodge Ram 1500 SLT  103330   \n",
      "24   2011  Dodge Ram 1500 TRADESMAN R/CAB LWB ONLY 35K MILES   35612   \n",
      "25   2006                        Dodge Ram 1500 SLT Quad Cab  182911   \n",
      "26   2007                                 Dodge Ram 1500 SLT  107416   \n",
      "27   2006                                 Dodge Ram 1500 SLT  137297   \n",
      "28   2001                            Dodge Ram 1500 Quad Cab   92673   \n",
      "29   2007                         Dodge Ram 1500 ST Quad Cab  118476   \n",
      "30   2004                              Dodge Ram 1500 SRT-10   19040   \n",
      "31   1998                    Dodge Ram 1500 Laramie Quad Cab  187718   \n",
      "32   2010                             Dodge Ram 1500 Laramie   99157   \n",
      "33   2005                                 Dodge Ram 1500 SLT  107987   \n",
      "34   2005                Dodge Ram 1500 SLT/Laramie Quad Cab  107873   \n",
      "35   2011                               Dodge Ram 1500 Sport   73122   \n",
      "36   2011                                  Dodge Ram 1500 ST   79613   \n",
      "37   2001                        Dodge Ram 1500 SLT Quad Cab  108006   \n",
      "38   2005                                 Dodge Ram 1500 SLT  172382   \n",
      "39   2010                                 Dodge Ram 1500 SLT  104845   \n",
      "40   2011                               Dodge Ram 1500 Sport  144956   \n",
      "41   2011                             Dodge Ram 1500 Laramie   61620   \n",
      "42   2009                                 Dodge Ram 1500 SLT  187753   \n",
      "43   2001                            Dodge Ram 1500 Quad Cab  139403   \n",
      "44   2001                            Dodge Ram 1500 Quad Cab  124965   \n",
      "45   2008                                 Dodge Ram 1500 SLT  135913   \n",
      "46   2011                                  Dodge Ram 1500 ST   87322   \n",
      "47   2009                                 Dodge Ram 1500 SLT  152677   \n",
      "48   2010                                 Dodge Ram 1500 SLT  150638   \n",
      "49   2010                             Dodge Ram 1500 Laramie   71488   \n",
      "50   2011                               Dodge Ram 1500 Sport  109264   \n",
      "51   2009                             Dodge Ram 1500 Laramie  174629   \n",
      "52   2002                            Dodge Ram 1500 Quad Cab  172442   \n",
      "53   2011                                  Dodge Ram 1500 ST   72824   \n",
      "54   2011                               Dodge Ram 1500 Sport   63064   \n",
      "55   2006                                  Dodge Ram 1500 ST  107280   \n",
      "56   2011                             Dodge Ram 1500 Laramie  108140   \n",
      "57   2005                              Dodge Ram 1500 SRT-10   22625   \n",
      "58   2008                             Dodge Ram 1500 Laramie  127764   \n",
      "59   2011                               Dodge Ram 1500 Sport  174766   \n",
      "60   2007                                 Dodge Ram 1500 SLT  168439   \n",
      "61   2011                         Dodge Ram 1500 OUTDOORSMAN  188400   \n",
      "62   2006                                    Dodge Ram 1500   226943   \n",
      "63   2008                         Dodge Ram 1500 ST Quad Cab  148586   \n",
      "64   2009                             Dodge Ram 1500 Laramie  109398   \n",
      "65   2009                                 Dodge Ram 1500 SLT   95630   \n",
      "66   2011                            Dodge Ram 1500 Big Horn       0   \n",
      "67   2008                                 Dodge Ram 1500 SLT  103409   \n",
      "68   2008                             Dodge Ram 1500 Laramie  176554   \n",
      "69   2003                Dodge Ram 1500 SLT/Laramie Quad Cab       0   \n",
      "70   2007                                 Dodge Ram 1500 SLT  133718   \n",
      "71   2007                                 Dodge Ram 1500 SLT  128190   \n",
      "72   2006                             Dodge Ram 1500 Laramie  105544   \n",
      "73   2006                                  Dodge Ram 1500 ST  166967   \n",
      "74   2006                                 Dodge Ram 1500 SLT   94101   \n",
      "75   1995                                  Dodge Ram 1500 ST   81373   \n",
      "76   2004                                    Dodge Ram 1500   145000   \n",
      "77   2009                                 Dodge Ram 1500 SLT  136689   \n",
      "78   2006                                 Dodge Ram 1500 SLT  193406   \n",
      "79   2009                       Dodge Ram 1500 SLT/Sport/TRX   98188   \n",
      "80   2011                                 Dodge Ram 1500 SLT  117909   \n",
      "81   2008                                 Dodge Ram 1500 SLT       0   \n",
      "82   2008                                 Dodge Ram 1500 SLT  104413   \n",
      "83   2008                             Dodge Ram 1500 Laramie  124124   \n",
      "84   2010                                 Dodge Ram 1500 SLT  229218   \n",
      "85   1998                            Dodge Ram 1500 Quad Cab  141341   \n",
      "86   2007                                 Dodge Ram 1500 SLT  203301   \n",
      "87   2008                                 Dodge Ram 1500 SLT   86871   \n",
      "88   2011                                  Dodge Ram 1500 ST  147001   \n",
      "89   2004                Dodge Ram 1500 SLT/Laramie Quad Cab  148227   \n",
      "90   2004                                 Dodge Ram 1500 SLT  160365   \n",
      "91   2007                                 Dodge Ram 1500 SLT  112738   \n",
      "92   2006                                 Dodge Ram 1500 SLT  114209   \n",
      "93   2011                               Dodge Ram 1500 Sport   99666   \n",
      "94   2008                             Dodge Ram 1500 Laramie  151695   \n",
      "95   2004                Dodge Ram 1500 SLT/Laramie Quad Cab  145992   \n",
      "96   2011                 Dodge Ram 1500 OUTDOORSMAN 6.3 FT.  105377   \n",
      "97   2011                                 Dodge Ram 1500 SLT  127029   \n",
      "98   2004                Dodge Ram 1500 SLT/Laramie Quad Cab  159013   \n",
      "99   2011                             Dodge Ram 1500 Laramie  149112   \n",
      "100  2009                                 Dodge Ram 1500 SLT  154618   \n",
      "101  2007                            Dodge Ram 1500 BIG HORN  156362   \n",
      "102  2002                            Dodge Ram 1500 Quad Cab   60000   \n",
      "103  2011                             Dodge Ram 1500 Laramie  117450   \n",
      "104  2011                                    Dodge Ram 1500   101051   \n",
      "105  2008                                 Dodge Ram 1500 SLT  133972   \n",
      "106  2008                              Dodge Ram 1500 ST/SXT  135868   \n",
      "107  2011                                  Dodge Ram 1500 ST   92807   \n",
      "108  2010                             Dodge Ram 1500 Laramie   78382   \n",
      "109  2006                                 Dodge Ram 1500 SLT  158614   \n",
      "110  2011                                 Dodge Ram 1500 SLT  183840   \n",
      "111  2007                         Dodge Ram 1500 ST Quad Cab  130403   \n",
      "112  2010                                 Dodge Ram 1500 SLT  250064   \n",
      "113  1999                            Dodge Ram 1500 Quad Cab  219728   \n",
      "114  2010            Dodge Ram 1500 LIFTED AMAZING CONDITION  128311   \n",
      "115  2008                                 Dodge Ram 1500 SLT   61005   \n",
      "116  2011                               Dodge Ram 1500 Sport  131931   \n",
      "117  2006                                 Dodge Ram 1500 SLT  131073   \n",
      "118  2007                                 Dodge Ram 1500 SLT   85108   \n",
      "119  2010                             Dodge Ram 1500 Laramie   84277   \n",
      "120  2010                                  Dodge Ram 1500 ST   75386   \n",
      "121  2006             Dodge Ram 1500 SLT/TRX4 Off-Road/Sport  190462   \n",
      "122  2005                                    Dodge Ram 1500   161829   \n",
      "123  2011                                 Dodge Ram 1500 SLT   78783   \n",
      "124  2008                                 Dodge Ram 1500 SLT   93404   \n",
      "125  2011                                 Dodge Ram 1500 SLT   86037   \n",
      "126  2011                            Dodge Ram 1500 BIG HORN   62070   \n",
      "127  2002                            Dodge Ram 1500 Quad Cab  200925   \n",
      "\n",
      "    List Price Distance                                             Dealer  \\\n",
      "0        19995       11                            AutoNation Honda Renton   \n",
      "1        12999       11                 Chrysler Dodge Jeep Ram of Seattle   \n",
      "2        27500       16                              Advantage Auto Direct   \n",
      "3        14495       16                                  Seaview Buick GMC   \n",
      "4        17999       16                    Northwest Motorsport - Lynnwood   \n",
      "5        19995       18                                ZAG Motors Lynnwood   \n",
      "6        23488       18                                     Wheels & Deals   \n",
      "7        16988       18                            Select Motor Auto Sales   \n",
      "8        29995       20                                 ZAG Motors Everett   \n",
      "9        18999       20                                 Bayside Auto Sales   \n",
      "10       17498       22                              S & S Best Auto Sales   \n",
      "11       10885       22                                   Boardwalk Motors   \n",
      "12        9997       23                                 Seattle Auto Deals   \n",
      "13       16999       30                                     HDs Auto Sales   \n",
      "14       22923       30                                   AUTO DESTINATION   \n",
      "15       21999       30                                     HDs Auto Sales   \n",
      "16       35990       31                                      Sabeti Motors   \n",
      "17       19900       31                            South Tacoma Motors Inc   \n",
      "18       17871       31                                All American Motors   \n",
      "19       14971       33                         Kendall Ford of Marysville   \n",
      "20       17921       42                                 Art Gamblin Motors   \n",
      "21       15441       43    Rairdon's Dodge Chrysler Jeep Ram of Marysville   \n",
      "22       16583       43    Rairdon's Dodge Chrysler Jeep Ram of Marysville   \n",
      "23       14990       50                            Rocha Family Auto Sales   \n",
      "24       20850       79                       Community First Auto Centers   \n",
      "25       11995      106                 BBL Auto Sales & Auto Detail Salon   \n",
      "26       14022      147                                     Gresham Toyota   \n",
      "27       16988      149                                Bickmore Auto Sales   \n",
      "28       10488      149                                Bickmore Auto Sales   \n",
      "29       15991      149                                    Columbia Motors   \n",
      "30       38999      150                                Executive Autosport   \n",
      "31        7995      151                 Steve & Sons Auto Sales & Rv's Llc   \n",
      "32       23225      155                              Beaverton Car Company   \n",
      "33       15995      156                               Jake Berg Auto Sales   \n",
      "34       14491      174  Lithia Chrysler Jeep Dodge Ram FIAT of Tri-Cities   \n",
      "35       25990      189                                Volkswagen of Salem   \n",
      "36       19990      189                                Volkswagen of Salem   \n",
      "37        9000      211             Albany Chrysler Dodge Jeep Ram Hyundai   \n",
      "38       11995      222                                 Power Ford Lincoln   \n",
      "39       21999      223            Larry H. Miller Downtown Toyota Spokane   \n",
      "40       19995      232                                 Freedom Auto Sales   \n",
      "41       29999      234                     Northwest Motorsport - Spokane   \n",
      "42       14495      234                                Gee NW Auto Lending   \n",
      "43        5750      245                                NW Group Post Falls   \n",
      "44        9995      249                       Lithia Toyota of Springfield   \n",
      "45       19490      249                            Lithia Nissan Of Eugene   \n",
      "46       20995      249                       Lithia Toyota of Springfield   \n",
      "47       15990      249                       Lithia Toyota of Springfield   \n",
      "48       19490      249                            Lithia Nissan Of Eugene   \n",
      "49       28000      249                       Lithia Toyota of Springfield   \n",
      "50       22995      255                                          Audi Bend   \n",
      "51       11962      308    Lithia Chrysler Jeep Dodge Ram FIAT of Roseburg   \n",
      "52        8986      346                            Steve's Hometown Toyota   \n",
      "53       20977      358                               Klamath Falls Toyota   \n",
      "54       25998      378                                      Auto Town USA   \n",
      "55        9613      391                   Peterson Chrysler Dodge Jeep Ram   \n",
      "56       23499      393                            Boise's Best Auto Sales   \n",
      "57       38899      398                       Northwest Motorsport - Boise   \n",
      "58       16763      398                                Peterson Auto Group   \n",
      "59       18421      398                                   Image Auto Sales   \n",
      "60       12221      398                                   Image Auto Sales   \n",
      "61       14995      486                                          Auto West   \n",
      "62       10999       20                                 Bayside Auto Sales   \n",
      "63       17888       20                                 Bayside Auto Sales   \n",
      "64       20885       22                                   Boardwalk Motors   \n",
      "65       18987       31                      Gilchrist Chevrolet Buick GMC   \n",
      "66       23781       31                       Tacoma Pre-Owned Supercenter   \n",
      "67       17850       35                             Maxx Autos Plus Tacoma   \n",
      "68       14143       43    Rairdon's Dodge Chrysler Jeep Ram of Marysville   \n",
      "69        8995       46                                    507 Motorsports   \n",
      "70       15433       53                           Mullinax Ford of Olympia   \n",
      "71       17899       83                  Northwest Chevrolet of Bellingham   \n",
      "72       16995      106                              Steve Hahn Auto Group   \n",
      "73        9999      139                                Alan Webb Chevrolet   \n",
      "74       13990      149                             Buick GMC of Beaverton   \n",
      "75        8995      151                                   Ripcity Cars LLC   \n",
      "76        9999      213                            Tommy's 9th Street Auto   \n",
      "77       15995      221                                       Parkway Auto   \n",
      "78       11777      224                       ClickIt Auto & RV Wandermere   \n",
      "79       18995      229                AutoNation Chevrolet Spokane Valley   \n",
      "80       19998      245                    Findlay Chrysler Jeep Dodge Ram   \n",
      "81       14995      252                            Pacific Cars and Trucks   \n",
      "82       19990      249      Lithia Chrysler Jeep Dodge Ram FIAT of Eugene   \n",
      "83       17922      255                             Kendall Toyota of Bend   \n",
      "84       11895      253                                        Legacy Ford   \n",
      "85        8998      255                           Dave Smith Coeur d'Alene   \n",
      "86        9998      255                           Dave Smith Coeur d'Alene   \n",
      "87       16998      255                           Dave Smith Coeur d'Alene   \n",
      "88       13998      255                           Dave Smith Coeur d'Alene   \n",
      "89       10995      308                    Lithia Ford Lincoln of Roseburg   \n",
      "90        9987      346                                 Ontario Auto Ranch   \n",
      "91       18154      371                                HIGH ROAD AUTOS LLC   \n",
      "92       12995      391               Kendall at the Idaho Center Automall   \n",
      "93       24149      398                                Peterson Auto Group   \n",
      "94       15736      398                                Peterson Auto Group   \n",
      "95       11995      495                            Advanced Auto Wholesale   \n",
      "96       18965      145                                Portland Auto Sales   \n",
      "97       17450      229                    Alliance Imports and Auto Sales   \n",
      "98       13988      149                                Bickmore Auto Sales   \n",
      "99       20830       79                                         I-5 Toyota   \n",
      "100      17391       22                                  Energy Auto Sales   \n",
      "101      15881       30                                  Market Place Auto   \n",
      "102      18500      147                     TRED Private Seller (Portland)   \n",
      "103      24999       31                               Mountain Loop Motors   \n",
      "104      26999      219                            Country Chevrolet Buick   \n",
      "105      13995      226                                       Globe Motors   \n",
      "106      11999       27                                         Truck Town   \n",
      "107      19988       30                                  Market Place Auto   \n",
      "108      26885       22                                   Boardwalk Motors   \n",
      "109      10995      154                                             Lot 99   \n",
      "110      15995      270                                   Valley Car Sales   \n",
      "111      13877       65                                      Frontier Ford   \n",
      "112      10995      154                                             Lot 99   \n",
      "113       7495      221                                       Parkway Auto   \n",
      "114      23000      245                                NW Group Post Falls   \n",
      "115      24998      378                                      Auto Town USA   \n",
      "116      21405       11                                     Good Chevrolet   \n",
      "117      15998      378                                      Auto Town USA   \n",
      "118      11950      393                                  Dale's Auto Sales   \n",
      "119      26782       11                                     Younker Nissan   \n",
      "120      17800       31                                  South Tacoma Auto   \n",
      "121       9991        0                           AutoNation Ford Bellevue   \n",
      "122      10789       25                              Seattle Auto Haus LLC   \n",
      "123      23998      367              Lithia Chrysler Jeep Dodge of Medford   \n",
      "124      18990       16                                  Seaview Buick GMC   \n",
      "125      19995      380    Lithia Chrysler Jeep Dodge RAM of Klamath Falls   \n",
      "126      23995      245                                NW Group Post Falls   \n",
      "127       6777      378                            Lithia Ford of Missoula   \n",
      "\n",
      "                                                  Link  \n",
      "0    https://www.cars.com//vehicledetail/b44b705d-d...  \n",
      "1    https://www.cars.com//vehicledetail/954fb324-e...  \n",
      "2    https://www.cars.com//vehicledetail/6faf6642-4...  \n",
      "3    https://www.cars.com//vehicledetail/859cdba9-c...  \n",
      "4    https://www.cars.com//vehicledetail/d500ccd9-e...  \n",
      "5    https://www.cars.com//vehicledetail/e0cdc472-8...  \n",
      "6    https://www.cars.com//vehicledetail/8331c940-6...  \n",
      "7    https://www.cars.com//vehicledetail/351e2bd6-d...  \n",
      "8    https://www.cars.com//vehicledetail/5f257629-d...  \n",
      "9    https://www.cars.com//vehicledetail/021c54fb-e...  \n",
      "10   https://www.cars.com//vehicledetail/d3518546-d...  \n",
      "11   https://www.cars.com//vehicledetail/e6870725-1...  \n",
      "12   https://www.cars.com//vehicledetail/f30fe40a-4...  \n",
      "13   https://www.cars.com//vehicledetail/d37afc3d-a...  \n",
      "14   https://www.cars.com//vehicledetail/0b3f2ce2-2...  \n",
      "15   https://www.cars.com//vehicledetail/9d082020-c...  \n",
      "16   https://www.cars.com//vehicledetail/51a3f18d-3...  \n",
      "17   https://www.cars.com//vehicledetail/f5e0b01b-d...  \n",
      "18   https://www.cars.com//vehicledetail/a5d78050-3...  \n",
      "19   https://www.cars.com//vehicledetail/dbb88f0f-1...  \n",
      "20   https://www.cars.com//vehicledetail/bad07df3-c...  \n",
      "21   https://www.cars.com//vehicledetail/5ffa9918-4...  \n",
      "22   https://www.cars.com//vehicledetail/62074c80-a...  \n",
      "23   https://www.cars.com//vehicledetail/465de631-4...  \n",
      "24   https://www.cars.com//vehicledetail/01fe29ae-4...  \n",
      "25   https://www.cars.com//vehicledetail/5614b221-b...  \n",
      "26   https://www.cars.com//vehicledetail/7a81948e-2...  \n",
      "27   https://www.cars.com//vehicledetail/a8be15f4-8...  \n",
      "28   https://www.cars.com//vehicledetail/149450b1-f...  \n",
      "29   https://www.cars.com//vehicledetail/d9bd3877-0...  \n",
      "30   https://www.cars.com//vehicledetail/55c6662c-b...  \n",
      "31   https://www.cars.com//vehicledetail/ec889075-f...  \n",
      "32   https://www.cars.com//vehicledetail/148aae53-f...  \n",
      "33   https://www.cars.com//vehicledetail/7ea33bb0-8...  \n",
      "34   https://www.cars.com//vehicledetail/776c7d43-7...  \n",
      "35   https://www.cars.com//vehicledetail/8348ec05-9...  \n",
      "36   https://www.cars.com//vehicledetail/375c41a5-5...  \n",
      "37   https://www.cars.com//vehicledetail/c71b2a59-0...  \n",
      "38   https://www.cars.com//vehicledetail/1f042e81-2...  \n",
      "39   https://www.cars.com//vehicledetail/22540e78-c...  \n",
      "40   https://www.cars.com//vehicledetail/b397cf30-6...  \n",
      "41   https://www.cars.com//vehicledetail/9e2f5406-d...  \n",
      "42   https://www.cars.com//vehicledetail/4c2c650b-e...  \n",
      "43   https://www.cars.com//vehicledetail/a5d49c35-6...  \n",
      "44   https://www.cars.com//vehicledetail/55bd1e3b-5...  \n",
      "45   https://www.cars.com//vehicledetail/82840138-0...  \n",
      "46   https://www.cars.com//vehicledetail/0951615b-e...  \n",
      "47   https://www.cars.com//vehicledetail/985a4699-d...  \n",
      "48   https://www.cars.com//vehicledetail/cfa46b35-8...  \n",
      "49   https://www.cars.com//vehicledetail/ddced8c3-a...  \n",
      "50   https://www.cars.com//vehicledetail/052a8060-5...  \n",
      "51   https://www.cars.com//vehicledetail/c97fe3f0-f...  \n",
      "52   https://www.cars.com//vehicledetail/e187f3eb-6...  \n",
      "53   https://www.cars.com//vehicledetail/792765cb-0...  \n",
      "54   https://www.cars.com//vehicledetail/ab96d058-d...  \n",
      "55   https://www.cars.com//vehicledetail/d3f16fdb-e...  \n",
      "56   https://www.cars.com//vehicledetail/e08c4316-3...  \n",
      "57   https://www.cars.com//vehicledetail/4477c09f-c...  \n",
      "58   https://www.cars.com//vehicledetail/6dcee2c0-5...  \n",
      "59   https://www.cars.com//vehicledetail/bd43efb8-e...  \n",
      "60   https://www.cars.com//vehicledetail/2366c664-2...  \n",
      "61   https://www.cars.com//vehicledetail/b96b56e8-f...  \n",
      "62   https://www.cars.com//vehicledetail/0600e874-a...  \n",
      "63   https://www.cars.com//vehicledetail/a6d2cc9d-b...  \n",
      "64   https://www.cars.com//vehicledetail/2f4e20af-1...  \n",
      "65   https://www.cars.com//vehicledetail/23e7e7f7-6...  \n",
      "66   https://www.cars.com//vehicledetail/aced3c30-4...  \n",
      "67   https://www.cars.com//vehicledetail/6be6d968-0...  \n",
      "68   https://www.cars.com//vehicledetail/59d6907e-a...  \n",
      "69   https://www.cars.com//vehicledetail/9a628443-a...  \n",
      "70   https://www.cars.com//vehicledetail/b8a541cb-a...  \n",
      "71   https://www.cars.com//vehicledetail/ed2ef505-4...  \n",
      "72   https://www.cars.com//vehicledetail/6f41ad2a-a...  \n",
      "73   https://www.cars.com//vehicledetail/ba25166a-d...  \n",
      "74   https://www.cars.com//vehicledetail/42e6a6ae-9...  \n",
      "75   https://www.cars.com//vehicledetail/b357db25-f...  \n",
      "76   https://www.cars.com//vehicledetail/afb3c92e-d...  \n",
      "77   https://www.cars.com//vehicledetail/2336cf6c-d...  \n",
      "78   https://www.cars.com//vehicledetail/d527a8c1-1...  \n",
      "79   https://www.cars.com//vehicledetail/ce1776fb-b...  \n",
      "80   https://www.cars.com//vehicledetail/b67b32d2-c...  \n",
      "81   https://www.cars.com//vehicledetail/29bb890b-f...  \n",
      "82   https://www.cars.com//vehicledetail/9e7e780e-4...  \n",
      "83   https://www.cars.com//vehicledetail/324f801e-7...  \n",
      "84   https://www.cars.com//vehicledetail/9a5390cf-f...  \n",
      "85   https://www.cars.com//vehicledetail/bfeae548-2...  \n",
      "86   https://www.cars.com//vehicledetail/22da5238-6...  \n",
      "87   https://www.cars.com//vehicledetail/8aeedb6d-c...  \n",
      "88   https://www.cars.com//vehicledetail/42aae663-7...  \n",
      "89   https://www.cars.com//vehicledetail/3eb481a0-d...  \n",
      "90   https://www.cars.com//vehicledetail/084b197d-e...  \n",
      "91   https://www.cars.com//vehicledetail/077a3632-c...  \n",
      "92   https://www.cars.com//vehicledetail/b0d2470d-2...  \n",
      "93   https://www.cars.com//vehicledetail/2b6159f3-e...  \n",
      "94   https://www.cars.com//vehicledetail/0b895e12-e...  \n",
      "95   https://www.cars.com//vehicledetail/ec0f22f4-3...  \n",
      "96   https://www.cars.com//vehicledetail/f1534de6-e...  \n",
      "97   https://www.cars.com//vehicledetail/4e7564ed-6...  \n",
      "98   https://www.cars.com//vehicledetail/c32e52b5-2...  \n",
      "99   https://www.cars.com//vehicledetail/31ea43bb-6...  \n",
      "100  https://www.cars.com//vehicledetail/5f826ef2-a...  \n",
      "101  https://www.cars.com//vehicledetail/d37fb347-e...  \n",
      "102  https://www.cars.com//vehicledetail/1506bf7d-2...  \n",
      "103  https://www.cars.com//vehicledetail/e07d31f5-3...  \n",
      "104  https://www.cars.com//vehicledetail/21c199d9-8...  \n",
      "105  https://www.cars.com//vehicledetail/52cad27a-d...  \n",
      "106  https://www.cars.com//vehicledetail/c7ad7f3e-8...  \n",
      "107  https://www.cars.com//vehicledetail/7db5083c-f...  \n",
      "108  https://www.cars.com//vehicledetail/f7333a1f-0...  \n",
      "109  https://www.cars.com//vehicledetail/3416a124-9...  \n",
      "110  https://www.cars.com//vehicledetail/c6dec4de-c...  \n",
      "111  https://www.cars.com//vehicledetail/12438237-d...  \n",
      "112  https://www.cars.com//vehicledetail/57707363-e...  \n",
      "113  https://www.cars.com//vehicledetail/987a334a-a...  \n",
      "114  https://www.cars.com//vehicledetail/45d53c82-b...  \n",
      "115  https://www.cars.com//vehicledetail/835ecf11-d...  \n",
      "116  https://www.cars.com//vehicledetail/d4ed46a8-f...  \n",
      "117  https://www.cars.com//vehicledetail/384411e0-b...  \n",
      "118  https://www.cars.com//vehicledetail/8022e38b-e...  \n",
      "119  https://www.cars.com//vehicledetail/82452b8c-8...  \n",
      "120  https://www.cars.com//vehicledetail/a623d5a5-b...  \n",
      "121  https://www.cars.com//vehicledetail/17b09720-4...  \n",
      "122  https://www.cars.com//vehicledetail/28df496e-c...  \n",
      "123  https://www.cars.com//vehicledetail/b92772b7-6...  \n",
      "124  https://www.cars.com//vehicledetail/bcffd8a3-4...  \n",
      "125  https://www.cars.com//vehicledetail/6e998c94-b...  \n",
      "126  https://www.cars.com//vehicledetail/c2673446-c...  \n",
      "127  https://www.cars.com//vehicledetail/4cb2bb07-7...  \n"
     ]
    }
   ],
   "source": [
    "# build url based on form input\n",
    "url_1 = 'https://www.cars.com/shopping/results/?list_price_max=&makes[]='\n",
    "url_3 = '&maximum_distance='\n",
    "url_5 = '&models[]='\n",
    "url_9 = '&page=1&page_size=250&stock_type=used&year_max='\n",
    "# determine url portion needed based on min/max year selections\n",
    "if widgetMaxYear.value=='None':\n",
    "    url_10 = ''\n",
    "else:\n",
    "    url_10 = widgetMaxYear.value\n",
    "url_11 = '&year_min='\n",
    "if widgetMinYear.value=='None':\n",
    "    url_12 = ''\n",
    "else:\n",
    "    url_12 = widgetMinYear.value\n",
    "url_13 = '&zip='\n",
    "\n",
    "input_make = (widgetMake.value).lower()\n",
    "input_make_url = input_make.replace(\" \", \"_\")\n",
    "input_model = (widgetModel.value).lower()\n",
    "input_model_url = input_model.replace(\" \", \"_\")\n",
    "page_url = url_1 + input_make_url + url_3 + ((widgetDistance.value).split(\" \")[0]).lower() + url_5 + input_make_url + '-' + input_model_url + url_9 + url_10 + url_11 + url_12 + url_13 + widgetZipCode.value\n",
    "\n",
    "#\n",
    "#page_url = 'https://www.cars.com/shopping/results/?list_price_max=&makes[]=audi&maximum_distance=500&models[]=audi-a4&page=1&page_size=250&stock_type=used&year_max=&year_min=2010&zip=98004'\n",
    "\n",
    "# ...\n",
    "uClient = uReq(page_url)\n",
    "\n",
    "# ...\n",
    "page_soup = soup(uClient.read(), \"html.parser\")\n",
    "uClient.close()\n",
    "\n",
    "# determine total number of listings \n",
    "counter_span = page_soup.find('span', {'class': \"total-entries\"})\n",
    "counter_span_str = counter_span.get_text()[1:]\n",
    "counter_span_num = counter_span_str.split(\" \")[0]\n",
    "num_listings = int(counter_span_num.replace(\",\", \"\"))\n",
    "\n",
    "\n",
    "\n",
    "# \n",
    "df = pd.DataFrame(columns = ['Year', 'Name', 'Mileage', 'List Price', 'Distance', 'Dealer', 'Link'],  index = range(0, num_listings))\n",
    "\n",
    "\n",
    "\n",
    "# retreive all listings from the first page\n",
    "i_pageResults = page_soup.findAll(\"div\", {\"class\": \"vehicle-details\"})\n",
    "# loop though each vehicle listing \n",
    "for k in range(0, len(i_pageResults)):\n",
    "  # scrape listing link\n",
    "  link_a = i_pageResults[k].find('a', {'class': \"vehicle-card-link\"})['href']\n",
    "  link_full = 'https://www.cars.com/' + link_a\n",
    "  df.at[k, 'Link'] = link_full\n",
    "  # scrape dealer name\n",
    "  dealer_div = i_pageResults[k].find('div', {'class': \"dealer-name\"})\n",
    "  dealer_str = dealer_div.get_text()[1:]\n",
    "  dealer = dealer_str[:-1]\n",
    "  df.at[k, 'Dealer'] = dealer\n",
    "  # scrape listing title \n",
    "  k_title_h2 = i_pageResults[k].find('h2', {'class': \"title\"})\n",
    "  k_title = k_title_h2.get_text()\n",
    "  df.at[k, 'Name'] = k_title[5:]\n",
    "  df.at[k, 'Year'] = k_title[:4]\n",
    "  # scrape mileage\n",
    "  miles_div = i_pageResults[k].find('div', {'class': \"mileage\"})\n",
    "  miles_str = miles_div.get_text()\n",
    "  miles_digits = miles_str.split(\" \")[0]\n",
    "  miles = miles_digits.replace(\",\", \"\")\n",
    "  miles_int = int(miles)\n",
    "  df.at[k, 'Mileage'] = miles_int\n",
    "  # scrape distance (from zip code)\n",
    "  dist_div = i_pageResults[k].find('div', {'class': \"miles-from\"})\n",
    "  dist_str = dist_div.get_text()\n",
    "  dist_digits = dist_str.split(\" \")[0]\n",
    "  dist = dist_digits.replace(\",\", \"\")\n",
    "  if dist=='':\n",
    "    dist_int = '9999'\n",
    "  else:\n",
    "    dist_int = int(dist)\n",
    "  df.at[k, 'Distance'] = dist_int\n",
    "  # scrape price\n",
    "  price_span = i_pageResults[k].find('span', {'class': \"primary-price\"})\n",
    "  price_str = price_span.get_text()\n",
    "  price_usd = price_str.replace(\",\", \"\")\n",
    "  price = price_usd.replace(\"$\", \"\")\n",
    "  if price_str=='Not Priced':\n",
    "    df.at[k, 'List Price'] = 'Not Priced'\n",
    "  else:\n",
    "    df.at[k, 'List Price'] = int(price)\n",
    "    \n",
    "\n",
    "#\n",
    "k+=1\n",
    "# determine how many pages remain to scrape \n",
    "pages_remaining = math.ceil((num_listings-250)/250)\n",
    "page_num = 2\n",
    "# if there is more than 1 page of results, continue scraping\n",
    "while (pages_remaining>0):\n",
    "  # scrape \n",
    "  p_url = page_url.split(\"page=\")[0] + 'page=' + str(page_num) + (page_url.split(\"page=\")[1])[1:]\n",
    "  # ...\n",
    "  pClient = uReq(p_url)\n",
    "\n",
    "  # ...\n",
    "  p_page_soup = soup(pClient.read(), \"html.parser\")\n",
    "  pClient.close()\n",
    "\n",
    "  # retreive all listings from the p'th page\n",
    "  p_pageResults = p_page_soup.findAll(\"div\", {\"class\": \"vehicle-details\"})\n",
    "  # loop though each vehicle listing \n",
    "  ### change f to p \n",
    "  for f in range(0, len(p_pageResults)):\n",
    "    # check to see if any of the fields are null\n",
    "    p_title_h2 = p_pageResults[f].find('h2', {'class': \"title\"})\n",
    "    miles_div = p_pageResults[f].find('div', {'class': \"mileage\"})\n",
    "    price_span = p_pageResults[f].find('span', {'class': \"primary-price\"})\n",
    "    dist_div = p_pageResults[f].find('div', {'class': \"miles-from\"})\n",
    "    p_title_h2_isNull = p_title_h2==None\n",
    "    miles_div_isNull = miles_div==None\n",
    "    price_span_isNull = price_span==None\n",
    "    dist_div_isNull = dist_div==None\n",
    "    if (p_title_h2_isNull or miles_div_isNull or price_span_isNull or dist_div_isNull):\n",
    "      k+=1\n",
    "    else:\n",
    "      # scrape listing link\n",
    "      link_a = p_pageResults[f].find('a', {'class': \"vehicle-card-link\"})['href']\n",
    "      link_full = 'https://www.cars.com/' + link_a\n",
    "      df.at[k, 'Link'] = link_full\n",
    "      # scrape dealer name\n",
    "      dealer_div = p_pageResults[f].find('div', {'class': \"dealer-name\"})\n",
    "      dealer_str = dealer_div.get_text()[1:]\n",
    "      dealer = dealer_str[:-1]\n",
    "      df.at[k, 'Dealer'] = dealer\n",
    "      # scrape listing title \n",
    "      p_title = p_title_h2.get_text()\n",
    "      df.at[k, 'Name'] = p_title[5:]\n",
    "      df.at[k, 'Year'] = p_title[:4]\n",
    "      # scrape mileage  \n",
    "      miles_str = miles_div.get_text()\n",
    "      miles_digits = miles_str.split(\" \")[0]\n",
    "      miles = miles_digits.replace(\",\", \"\")\n",
    "      miles_int = int(miles)\n",
    "      df.at[k, 'Mileage'] = miles_int\n",
    "      # scrape distance (from zip code)     \n",
    "      dist_str = dist_div.get_text()\n",
    "      dist_digits = dist_str.split(\" \")[0]\n",
    "      dist = dist_digits.replace(\",\", \"\")\n",
    "      if dist=='':\n",
    "        dist_int = '9999'\n",
    "      else:\n",
    "        dist_int = int(dist)\n",
    "      df.at[k, 'Distance'] = dist_int\n",
    "      # scrape price   \n",
    "      price_str = price_span.get_text()\n",
    "      price_usd = price_str.replace(\",\", \"\")\n",
    "      price = price_usd.replace(\"$\", \"\")\n",
    "      if price_str=='Not Priced':\n",
    "        df.at[k, 'List Price'] = 'Not Priced'\n",
    "      else:\n",
    "        df.at[k, 'List Price'] = int(price)\n",
    "      # increment placement var\n",
    "      k+=1\n",
    "\n",
    "  # increment/decrement counter vars\n",
    "  pages_remaining-=1\n",
    "  page_num+=1\n",
    "\n",
    "\n",
    "  \n",
    "\n",
    "\n",
    "# clean final df \n",
    "df1 = df.dropna(thresh=2)\n",
    "df2 = df1[df1['List Price'] != 'Not Priced']\n",
    "df3 = df2[df2['Distance'] != '9999']\n",
    "df4 = df3.reset_index()\n",
    "df_final = df4.drop(columns=['index'])\n",
    "pd.set_option(\"display.max_rows\", None, \"display.max_columns\", None)\n",
    "print(df_final)\n"
   ]
  },
  {
   "cell_type": "code",
   "execution_count": 6,
   "metadata": {
    "hideCode": true,
    "hidePrompt": true
   },
   "outputs": [
    {
     "data": {
      "application/vnd.plotly.v1+json": {
       "config": {
        "plotlyServerURL": "https://plot.ly"
       },
       "data": [
        {
         "marker": {
          "color": [
           11,
           11,
           16,
           16,
           16,
           18,
           18,
           18,
           20,
           20,
           22,
           22,
           23,
           30,
           30,
           30,
           31,
           31,
           31,
           33,
           42,
           43,
           43,
           50,
           79,
           106,
           147,
           149,
           149,
           149,
           150,
           151,
           155,
           156,
           174,
           189,
           189,
           211,
           222,
           223,
           232,
           234,
           234,
           245,
           249,
           249,
           249,
           249,
           249,
           249,
           255,
           308,
           346,
           358,
           378,
           391,
           393,
           398,
           398,
           398,
           398,
           486,
           20,
           20,
           22,
           31,
           31,
           35,
           43,
           46,
           53,
           83,
           106,
           139,
           149,
           151,
           213,
           221,
           224,
           229,
           245,
           252,
           249,
           255,
           253,
           255,
           255,
           255,
           255,
           308,
           346,
           371,
           391,
           398,
           398,
           495,
           145,
           229,
           149,
           79,
           22,
           30,
           147,
           31,
           219,
           226,
           27,
           30,
           22,
           154,
           270,
           65,
           154,
           221,
           245,
           378,
           11,
           378,
           393,
           11,
           31,
           0,
           25,
           367,
           16,
           380,
           245,
           378
          ],
          "colorscale": [
           [
            0,
            "rgb(176, 242, 188)"
           ],
           [
            0.16666666666666666,
            "rgb(137, 232, 172)"
           ],
           [
            0.3333333333333333,
            "rgb(103, 219, 165)"
           ],
           [
            0.5,
            "rgb(76, 200, 163)"
           ],
           [
            0.6666666666666666,
            "rgb(56, 178, 163)"
           ],
           [
            0.8333333333333334,
            "rgb(44, 152, 160)"
           ],
           [
            1,
            "rgb(37, 125, 152)"
           ]
          ],
          "showscale": true,
          "size": 16
         },
         "mode": "markers",
         "text": [
          "2011 Dodge Ram 1500 ST (AutoNation Honda Renton - 11 mi.)",
          "2011 Dodge Ram 1500 SLT (Chrysler Dodge Jeep Ram of Seattle - 11 mi.)",
          "2010 Dodge Ram 1500 Sport (Advantage Auto Direct - 16 mi.)",
          "2010 Dodge Ram 1500 SLT (Seaview Buick GMC - 16 mi.)",
          "2006 Dodge Ram 1500 SLT (Northwest Motorsport - Lynnwood - 16 mi.)",
          "2008 Dodge Ram 1500 Laramie (ZAG Motors Lynnwood - 18 mi.)",
          "2010 Dodge Ram 1500 Laramie (Wheels & Deals - 18 mi.)",
          "2008 Dodge Ram 1500 SLT Quad Cab (Select Motor Auto Sales - 18 mi.)",
          "2011 Dodge Ram 1500  (ZAG Motors Everett - 20 mi.)",
          "2011 Dodge Ram 1500 SLT (Bayside Auto Sales - 20 mi.)",
          "2008 Dodge Ram 1500 SLT (S & S Best Auto Sales - 22 mi.)",
          "1999 Dodge Ram 1500 Club Cab (Boardwalk Motors - 22 mi.)",
          "2008 Dodge Ram 1500 SLT Quad Cab (Seattle Auto Deals - 23 mi.)",
          "2008 Dodge Ram 1500 SLT (HDs Auto Sales - 30 mi.)",
          "2011 Dodge Ram 1500 ST (AUTO DESTINATION - 30 mi.)",
          "2011 Dodge Ram 1500 SLT (HDs Auto Sales - 30 mi.)",
          "2005 Dodge Ram 1500 SLT (Sabeti Motors - 31 mi.)",
          "2010 Dodge Ram 1500 SLT (South Tacoma Motors Inc - 31 mi.)",
          "2011 Dodge Ram 1500 SLT (All American Motors - 31 mi.)",
          "2008 Dodge Ram 1500 ST Quad Cab (Kendall Ford of Marysville - 33 mi.)",
          "2009 Dodge Ram 1500 Sport (Art Gamblin Motors - 42 mi.)",
          "2008 Dodge Ram 1500 SLT (Rairdon's Dodge Chrysler Jeep Ram of Marysville - 43 mi.)",
          "2011 Dodge Ram 1500 BIG HORN (Rairdon's Dodge Chrysler Jeep Ram of Marysville - 43 mi.)",
          "2006 Dodge Ram 1500 SLT (Rocha Family Auto Sales - 50 mi.)",
          "2011 Dodge Ram 1500 TRADESMAN R/CAB LWB ONLY 35K MILES (Community First Auto Centers - 79 mi.)",
          "2006 Dodge Ram 1500 SLT Quad Cab (BBL Auto Sales & Auto Detail Salon - 106 mi.)",
          "2007 Dodge Ram 1500 SLT (Gresham Toyota - 147 mi.)",
          "2006 Dodge Ram 1500 SLT (Bickmore Auto Sales - 149 mi.)",
          "2001 Dodge Ram 1500 Quad Cab (Bickmore Auto Sales - 149 mi.)",
          "2007 Dodge Ram 1500 ST Quad Cab (Columbia Motors - 149 mi.)",
          "2004 Dodge Ram 1500 SRT-10 (Executive Autosport - 150 mi.)",
          "1998 Dodge Ram 1500 Laramie Quad Cab (Steve & Sons Auto Sales & Rv's Llc - 151 mi.)",
          "2010 Dodge Ram 1500 Laramie (Beaverton Car Company - 155 mi.)",
          "2005 Dodge Ram 1500 SLT (Jake Berg Auto Sales - 156 mi.)",
          "2005 Dodge Ram 1500 SLT/Laramie Quad Cab (Lithia Chrysler Jeep Dodge Ram FIAT of Tri-Cities - 174 mi.)",
          "2011 Dodge Ram 1500 Sport (Volkswagen of Salem - 189 mi.)",
          "2011 Dodge Ram 1500 ST (Volkswagen of Salem - 189 mi.)",
          "2001 Dodge Ram 1500 SLT Quad Cab (Albany Chrysler Dodge Jeep Ram Hyundai - 211 mi.)",
          "2005 Dodge Ram 1500 SLT (Power Ford Lincoln - 222 mi.)",
          "2010 Dodge Ram 1500 SLT (Larry H. Miller Downtown Toyota Spokane - 223 mi.)",
          "2011 Dodge Ram 1500 Sport (Freedom Auto Sales - 232 mi.)",
          "2011 Dodge Ram 1500 Laramie (Northwest Motorsport - Spokane - 234 mi.)",
          "2009 Dodge Ram 1500 SLT (Gee NW Auto Lending - 234 mi.)",
          "2001 Dodge Ram 1500 Quad Cab (NW Group Post Falls - 245 mi.)",
          "2001 Dodge Ram 1500 Quad Cab (Lithia Toyota of Springfield - 249 mi.)",
          "2008 Dodge Ram 1500 SLT (Lithia Nissan Of Eugene - 249 mi.)",
          "2011 Dodge Ram 1500 ST (Lithia Toyota of Springfield - 249 mi.)",
          "2009 Dodge Ram 1500 SLT (Lithia Toyota of Springfield - 249 mi.)",
          "2010 Dodge Ram 1500 SLT (Lithia Nissan Of Eugene - 249 mi.)",
          "2010 Dodge Ram 1500 Laramie (Lithia Toyota of Springfield - 249 mi.)",
          "2011 Dodge Ram 1500 Sport (Audi Bend - 255 mi.)",
          "2009 Dodge Ram 1500 Laramie (Lithia Chrysler Jeep Dodge Ram FIAT of Roseburg - 308 mi.)",
          "2002 Dodge Ram 1500 Quad Cab (Steve's Hometown Toyota - 346 mi.)",
          "2011 Dodge Ram 1500 ST (Klamath Falls Toyota - 358 mi.)",
          "2011 Dodge Ram 1500 Sport (Auto Town USA - 378 mi.)",
          "2006 Dodge Ram 1500 ST (Peterson Chrysler Dodge Jeep Ram - 391 mi.)",
          "2011 Dodge Ram 1500 Laramie (Boise's Best Auto Sales - 393 mi.)",
          "2005 Dodge Ram 1500 SRT-10 (Northwest Motorsport - Boise - 398 mi.)",
          "2008 Dodge Ram 1500 Laramie (Peterson Auto Group - 398 mi.)",
          "2011 Dodge Ram 1500 Sport (Image Auto Sales - 398 mi.)",
          "2007 Dodge Ram 1500 SLT (Image Auto Sales - 398 mi.)",
          "2011 Dodge Ram 1500 OUTDOORSMAN (Auto West - 486 mi.)",
          "2006 Dodge Ram 1500  (Bayside Auto Sales - 20 mi.)",
          "2008 Dodge Ram 1500 ST Quad Cab (Bayside Auto Sales - 20 mi.)",
          "2009 Dodge Ram 1500 Laramie (Boardwalk Motors - 22 mi.)",
          "2009 Dodge Ram 1500 SLT (Gilchrist Chevrolet Buick GMC - 31 mi.)",
          "2011 Dodge Ram 1500 Big Horn (Tacoma Pre-Owned Supercenter - 31 mi.)",
          "2008 Dodge Ram 1500 SLT (Maxx Autos Plus Tacoma - 35 mi.)",
          "2008 Dodge Ram 1500 Laramie (Rairdon's Dodge Chrysler Jeep Ram of Marysville - 43 mi.)",
          "2003 Dodge Ram 1500 SLT/Laramie Quad Cab (507 Motorsports - 46 mi.)",
          "2007 Dodge Ram 1500 SLT (Mullinax Ford of Olympia - 53 mi.)",
          "2007 Dodge Ram 1500 SLT (Northwest Chevrolet of Bellingham - 83 mi.)",
          "2006 Dodge Ram 1500 Laramie (Steve Hahn Auto Group - 106 mi.)",
          "2006 Dodge Ram 1500 ST (Alan Webb Chevrolet - 139 mi.)",
          "2006 Dodge Ram 1500 SLT (Buick GMC of Beaverton - 149 mi.)",
          "1995 Dodge Ram 1500 ST (Ripcity Cars LLC - 151 mi.)",
          "2004 Dodge Ram 1500  (Tommy's 9th Street Auto - 213 mi.)",
          "2009 Dodge Ram 1500 SLT (Parkway Auto - 221 mi.)",
          "2006 Dodge Ram 1500 SLT (ClickIt Auto & RV Wandermere - 224 mi.)",
          "2009 Dodge Ram 1500 SLT/Sport/TRX (AutoNation Chevrolet Spokane Valley - 229 mi.)",
          "2011 Dodge Ram 1500 SLT (Findlay Chrysler Jeep Dodge Ram - 245 mi.)",
          "2008 Dodge Ram 1500 SLT (Pacific Cars and Trucks - 252 mi.)",
          "2008 Dodge Ram 1500 SLT (Lithia Chrysler Jeep Dodge Ram FIAT of Eugene - 249 mi.)",
          "2008 Dodge Ram 1500 Laramie (Kendall Toyota of Bend - 255 mi.)",
          "2010 Dodge Ram 1500 SLT (Legacy Ford - 253 mi.)",
          "1998 Dodge Ram 1500 Quad Cab (Dave Smith Coeur d'Alene - 255 mi.)",
          "2007 Dodge Ram 1500 SLT (Dave Smith Coeur d'Alene - 255 mi.)",
          "2008 Dodge Ram 1500 SLT (Dave Smith Coeur d'Alene - 255 mi.)",
          "2011 Dodge Ram 1500 ST (Dave Smith Coeur d'Alene - 255 mi.)",
          "2004 Dodge Ram 1500 SLT/Laramie Quad Cab (Lithia Ford Lincoln of Roseburg - 308 mi.)",
          "2004 Dodge Ram 1500 SLT (Ontario Auto Ranch - 346 mi.)",
          "2007 Dodge Ram 1500 SLT (HIGH ROAD AUTOS LLC - 371 mi.)",
          "2006 Dodge Ram 1500 SLT (Kendall at the Idaho Center Automall - 391 mi.)",
          "2011 Dodge Ram 1500 Sport (Peterson Auto Group - 398 mi.)",
          "2008 Dodge Ram 1500 Laramie (Peterson Auto Group - 398 mi.)",
          "2004 Dodge Ram 1500 SLT/Laramie Quad Cab (Advanced Auto Wholesale - 495 mi.)",
          "2011 Dodge Ram 1500 OUTDOORSMAN 6.3 FT. (Portland Auto Sales - 145 mi.)",
          "2011 Dodge Ram 1500 SLT (Alliance Imports and Auto Sales - 229 mi.)",
          "2004 Dodge Ram 1500 SLT/Laramie Quad Cab (Bickmore Auto Sales - 149 mi.)",
          "2011 Dodge Ram 1500 Laramie (I-5 Toyota - 79 mi.)",
          "2009 Dodge Ram 1500 SLT (Energy Auto Sales - 22 mi.)",
          "2007 Dodge Ram 1500 BIG HORN (Market Place Auto - 30 mi.)",
          "2002 Dodge Ram 1500 Quad Cab (TRED Private Seller (Portland) - 147 mi.)",
          "2011 Dodge Ram 1500 Laramie (Mountain Loop Motors - 31 mi.)",
          "2011 Dodge Ram 1500  (Country Chevrolet Buick - 219 mi.)",
          "2008 Dodge Ram 1500 SLT (Globe Motors - 226 mi.)",
          "2008 Dodge Ram 1500 ST/SXT (Truck Town - 27 mi.)",
          "2011 Dodge Ram 1500 ST (Market Place Auto - 30 mi.)",
          "2010 Dodge Ram 1500 Laramie (Boardwalk Motors - 22 mi.)",
          "2006 Dodge Ram 1500 SLT (Lot 99 - 154 mi.)",
          "2011 Dodge Ram 1500 SLT (Valley Car Sales - 270 mi.)",
          "2007 Dodge Ram 1500 ST Quad Cab (Frontier Ford - 65 mi.)",
          "2010 Dodge Ram 1500 SLT (Lot 99 - 154 mi.)",
          "1999 Dodge Ram 1500 Quad Cab (Parkway Auto - 221 mi.)",
          "2010 Dodge Ram 1500 LIFTED AMAZING CONDITION (NW Group Post Falls - 245 mi.)",
          "2008 Dodge Ram 1500 SLT (Auto Town USA - 378 mi.)",
          "2011 Dodge Ram 1500 Sport (Good Chevrolet - 11 mi.)",
          "2006 Dodge Ram 1500 SLT (Auto Town USA - 378 mi.)",
          "2007 Dodge Ram 1500 SLT (Dale's Auto Sales - 393 mi.)",
          "2010 Dodge Ram 1500 Laramie (Younker Nissan - 11 mi.)",
          "2010 Dodge Ram 1500 ST (South Tacoma Auto - 31 mi.)",
          "2006 Dodge Ram 1500 SLT/TRX4 Off-Road/Sport (AutoNation Ford Bellevue - 0 mi.)",
          "2005 Dodge Ram 1500  (Seattle Auto Haus LLC - 25 mi.)",
          "2011 Dodge Ram 1500 SLT (Lithia Chrysler Jeep Dodge of Medford - 367 mi.)",
          "2008 Dodge Ram 1500 SLT (Seaview Buick GMC - 16 mi.)",
          "2011 Dodge Ram 1500 SLT (Lithia Chrysler Jeep Dodge RAM of Klamath Falls - 380 mi.)",
          "2011 Dodge Ram 1500 BIG HORN (NW Group Post Falls - 245 mi.)",
          "2002 Dodge Ram 1500 Quad Cab (Lithia Ford of Missoula - 378 mi.)"
         ],
         "type": "scatter",
         "x": [
          101546,
          154514,
          75374,
          176386,
          105140,
          120181,
          95702,
          132478,
          101067,
          157353,
          92909,
          186016,
          152696,
          92816,
          84948,
          112229,
          16541,
          169000,
          153075,
          171225,
          154889,
          145564,
          131623,
          103330,
          35612,
          182911,
          107416,
          137297,
          92673,
          118476,
          19040,
          187718,
          99157,
          107987,
          107873,
          73122,
          79613,
          108006,
          172382,
          104845,
          144956,
          61620,
          187753,
          139403,
          124965,
          135913,
          87322,
          152677,
          150638,
          71488,
          109264,
          174629,
          172442,
          72824,
          63064,
          107280,
          108140,
          22625,
          127764,
          174766,
          168439,
          188400,
          226943,
          148586,
          109398,
          95630,
          0,
          103409,
          176554,
          0,
          133718,
          128190,
          105544,
          166967,
          94101,
          81373,
          145000,
          136689,
          193406,
          98188,
          117909,
          0,
          104413,
          124124,
          229218,
          141341,
          203301,
          86871,
          147001,
          148227,
          160365,
          112738,
          114209,
          99666,
          151695,
          145992,
          105377,
          127029,
          159013,
          149112,
          154618,
          156362,
          60000,
          117450,
          101051,
          133972,
          135868,
          92807,
          78382,
          158614,
          183840,
          130403,
          250064,
          219728,
          128311,
          61005,
          131931,
          131073,
          85108,
          84277,
          75386,
          190462,
          161829,
          78783,
          93404,
          86037,
          62070,
          200925
         ],
         "y": [
          19995,
          12999,
          27500,
          14495,
          17999,
          19995,
          23488,
          16988,
          29995,
          18999,
          17498,
          10885,
          9997,
          16999,
          22923,
          21999,
          35990,
          19900,
          17871,
          14971,
          17921,
          15441,
          16583,
          14990,
          20850,
          11995,
          14022,
          16988,
          10488,
          15991,
          38999,
          7995,
          23225,
          15995,
          14491,
          25990,
          19990,
          9000,
          11995,
          21999,
          19995,
          29999,
          14495,
          5750,
          9995,
          19490,
          20995,
          15990,
          19490,
          28000,
          22995,
          11962,
          8986,
          20977,
          25998,
          9613,
          23499,
          38899,
          16763,
          18421,
          12221,
          14995,
          10999,
          17888,
          20885,
          18987,
          23781,
          17850,
          14143,
          8995,
          15433,
          17899,
          16995,
          9999,
          13990,
          8995,
          9999,
          15995,
          11777,
          18995,
          19998,
          14995,
          19990,
          17922,
          11895,
          8998,
          9998,
          16998,
          13998,
          10995,
          9987,
          18154,
          12995,
          24149,
          15736,
          11995,
          18965,
          17450,
          13988,
          20830,
          17391,
          15881,
          18500,
          24999,
          26999,
          13995,
          11999,
          19988,
          26885,
          10995,
          15995,
          13877,
          10995,
          7495,
          23000,
          24998,
          21405,
          15998,
          11950,
          26782,
          17800,
          9991,
          10789,
          23998,
          18990,
          19995,
          23995,
          6777
         ]
        }
       ],
       "layout": {
        "template": {
         "data": {
          "bar": [
           {
            "error_x": {
             "color": "#2a3f5f"
            },
            "error_y": {
             "color": "#2a3f5f"
            },
            "marker": {
             "line": {
              "color": "#E5ECF6",
              "width": 0.5
             }
            },
            "type": "bar"
           }
          ],
          "barpolar": [
           {
            "marker": {
             "line": {
              "color": "#E5ECF6",
              "width": 0.5
             }
            },
            "type": "barpolar"
           }
          ],
          "carpet": [
           {
            "aaxis": {
             "endlinecolor": "#2a3f5f",
             "gridcolor": "white",
             "linecolor": "white",
             "minorgridcolor": "white",
             "startlinecolor": "#2a3f5f"
            },
            "baxis": {
             "endlinecolor": "#2a3f5f",
             "gridcolor": "white",
             "linecolor": "white",
             "minorgridcolor": "white",
             "startlinecolor": "#2a3f5f"
            },
            "type": "carpet"
           }
          ],
          "choropleth": [
           {
            "colorbar": {
             "outlinewidth": 0,
             "ticks": ""
            },
            "type": "choropleth"
           }
          ],
          "contour": [
           {
            "colorbar": {
             "outlinewidth": 0,
             "ticks": ""
            },
            "colorscale": [
             [
              0,
              "#0d0887"
             ],
             [
              0.1111111111111111,
              "#46039f"
             ],
             [
              0.2222222222222222,
              "#7201a8"
             ],
             [
              0.3333333333333333,
              "#9c179e"
             ],
             [
              0.4444444444444444,
              "#bd3786"
             ],
             [
              0.5555555555555556,
              "#d8576b"
             ],
             [
              0.6666666666666666,
              "#ed7953"
             ],
             [
              0.7777777777777778,
              "#fb9f3a"
             ],
             [
              0.8888888888888888,
              "#fdca26"
             ],
             [
              1,
              "#f0f921"
             ]
            ],
            "type": "contour"
           }
          ],
          "contourcarpet": [
           {
            "colorbar": {
             "outlinewidth": 0,
             "ticks": ""
            },
            "type": "contourcarpet"
           }
          ],
          "heatmap": [
           {
            "colorbar": {
             "outlinewidth": 0,
             "ticks": ""
            },
            "colorscale": [
             [
              0,
              "#0d0887"
             ],
             [
              0.1111111111111111,
              "#46039f"
             ],
             [
              0.2222222222222222,
              "#7201a8"
             ],
             [
              0.3333333333333333,
              "#9c179e"
             ],
             [
              0.4444444444444444,
              "#bd3786"
             ],
             [
              0.5555555555555556,
              "#d8576b"
             ],
             [
              0.6666666666666666,
              "#ed7953"
             ],
             [
              0.7777777777777778,
              "#fb9f3a"
             ],
             [
              0.8888888888888888,
              "#fdca26"
             ],
             [
              1,
              "#f0f921"
             ]
            ],
            "type": "heatmap"
           }
          ],
          "heatmapgl": [
           {
            "colorbar": {
             "outlinewidth": 0,
             "ticks": ""
            },
            "colorscale": [
             [
              0,
              "#0d0887"
             ],
             [
              0.1111111111111111,
              "#46039f"
             ],
             [
              0.2222222222222222,
              "#7201a8"
             ],
             [
              0.3333333333333333,
              "#9c179e"
             ],
             [
              0.4444444444444444,
              "#bd3786"
             ],
             [
              0.5555555555555556,
              "#d8576b"
             ],
             [
              0.6666666666666666,
              "#ed7953"
             ],
             [
              0.7777777777777778,
              "#fb9f3a"
             ],
             [
              0.8888888888888888,
              "#fdca26"
             ],
             [
              1,
              "#f0f921"
             ]
            ],
            "type": "heatmapgl"
           }
          ],
          "histogram": [
           {
            "marker": {
             "colorbar": {
              "outlinewidth": 0,
              "ticks": ""
             }
            },
            "type": "histogram"
           }
          ],
          "histogram2d": [
           {
            "colorbar": {
             "outlinewidth": 0,
             "ticks": ""
            },
            "colorscale": [
             [
              0,
              "#0d0887"
             ],
             [
              0.1111111111111111,
              "#46039f"
             ],
             [
              0.2222222222222222,
              "#7201a8"
             ],
             [
              0.3333333333333333,
              "#9c179e"
             ],
             [
              0.4444444444444444,
              "#bd3786"
             ],
             [
              0.5555555555555556,
              "#d8576b"
             ],
             [
              0.6666666666666666,
              "#ed7953"
             ],
             [
              0.7777777777777778,
              "#fb9f3a"
             ],
             [
              0.8888888888888888,
              "#fdca26"
             ],
             [
              1,
              "#f0f921"
             ]
            ],
            "type": "histogram2d"
           }
          ],
          "histogram2dcontour": [
           {
            "colorbar": {
             "outlinewidth": 0,
             "ticks": ""
            },
            "colorscale": [
             [
              0,
              "#0d0887"
             ],
             [
              0.1111111111111111,
              "#46039f"
             ],
             [
              0.2222222222222222,
              "#7201a8"
             ],
             [
              0.3333333333333333,
              "#9c179e"
             ],
             [
              0.4444444444444444,
              "#bd3786"
             ],
             [
              0.5555555555555556,
              "#d8576b"
             ],
             [
              0.6666666666666666,
              "#ed7953"
             ],
             [
              0.7777777777777778,
              "#fb9f3a"
             ],
             [
              0.8888888888888888,
              "#fdca26"
             ],
             [
              1,
              "#f0f921"
             ]
            ],
            "type": "histogram2dcontour"
           }
          ],
          "mesh3d": [
           {
            "colorbar": {
             "outlinewidth": 0,
             "ticks": ""
            },
            "type": "mesh3d"
           }
          ],
          "parcoords": [
           {
            "line": {
             "colorbar": {
              "outlinewidth": 0,
              "ticks": ""
             }
            },
            "type": "parcoords"
           }
          ],
          "pie": [
           {
            "automargin": true,
            "type": "pie"
           }
          ],
          "scatter": [
           {
            "marker": {
             "colorbar": {
              "outlinewidth": 0,
              "ticks": ""
             }
            },
            "type": "scatter"
           }
          ],
          "scatter3d": [
           {
            "line": {
             "colorbar": {
              "outlinewidth": 0,
              "ticks": ""
             }
            },
            "marker": {
             "colorbar": {
              "outlinewidth": 0,
              "ticks": ""
             }
            },
            "type": "scatter3d"
           }
          ],
          "scattercarpet": [
           {
            "marker": {
             "colorbar": {
              "outlinewidth": 0,
              "ticks": ""
             }
            },
            "type": "scattercarpet"
           }
          ],
          "scattergeo": [
           {
            "marker": {
             "colorbar": {
              "outlinewidth": 0,
              "ticks": ""
             }
            },
            "type": "scattergeo"
           }
          ],
          "scattergl": [
           {
            "marker": {
             "colorbar": {
              "outlinewidth": 0,
              "ticks": ""
             }
            },
            "type": "scattergl"
           }
          ],
          "scattermapbox": [
           {
            "marker": {
             "colorbar": {
              "outlinewidth": 0,
              "ticks": ""
             }
            },
            "type": "scattermapbox"
           }
          ],
          "scatterpolar": [
           {
            "marker": {
             "colorbar": {
              "outlinewidth": 0,
              "ticks": ""
             }
            },
            "type": "scatterpolar"
           }
          ],
          "scatterpolargl": [
           {
            "marker": {
             "colorbar": {
              "outlinewidth": 0,
              "ticks": ""
             }
            },
            "type": "scatterpolargl"
           }
          ],
          "scatterternary": [
           {
            "marker": {
             "colorbar": {
              "outlinewidth": 0,
              "ticks": ""
             }
            },
            "type": "scatterternary"
           }
          ],
          "surface": [
           {
            "colorbar": {
             "outlinewidth": 0,
             "ticks": ""
            },
            "colorscale": [
             [
              0,
              "#0d0887"
             ],
             [
              0.1111111111111111,
              "#46039f"
             ],
             [
              0.2222222222222222,
              "#7201a8"
             ],
             [
              0.3333333333333333,
              "#9c179e"
             ],
             [
              0.4444444444444444,
              "#bd3786"
             ],
             [
              0.5555555555555556,
              "#d8576b"
             ],
             [
              0.6666666666666666,
              "#ed7953"
             ],
             [
              0.7777777777777778,
              "#fb9f3a"
             ],
             [
              0.8888888888888888,
              "#fdca26"
             ],
             [
              1,
              "#f0f921"
             ]
            ],
            "type": "surface"
           }
          ],
          "table": [
           {
            "cells": {
             "fill": {
              "color": "#EBF0F8"
             },
             "line": {
              "color": "white"
             }
            },
            "header": {
             "fill": {
              "color": "#C8D4E3"
             },
             "line": {
              "color": "white"
             }
            },
            "type": "table"
           }
          ]
         },
         "layout": {
          "annotationdefaults": {
           "arrowcolor": "#2a3f5f",
           "arrowhead": 0,
           "arrowwidth": 1
          },
          "coloraxis": {
           "colorbar": {
            "outlinewidth": 0,
            "ticks": ""
           }
          },
          "colorscale": {
           "diverging": [
            [
             0,
             "#8e0152"
            ],
            [
             0.1,
             "#c51b7d"
            ],
            [
             0.2,
             "#de77ae"
            ],
            [
             0.3,
             "#f1b6da"
            ],
            [
             0.4,
             "#fde0ef"
            ],
            [
             0.5,
             "#f7f7f7"
            ],
            [
             0.6,
             "#e6f5d0"
            ],
            [
             0.7,
             "#b8e186"
            ],
            [
             0.8,
             "#7fbc41"
            ],
            [
             0.9,
             "#4d9221"
            ],
            [
             1,
             "#276419"
            ]
           ],
           "sequential": [
            [
             0,
             "#0d0887"
            ],
            [
             0.1111111111111111,
             "#46039f"
            ],
            [
             0.2222222222222222,
             "#7201a8"
            ],
            [
             0.3333333333333333,
             "#9c179e"
            ],
            [
             0.4444444444444444,
             "#bd3786"
            ],
            [
             0.5555555555555556,
             "#d8576b"
            ],
            [
             0.6666666666666666,
             "#ed7953"
            ],
            [
             0.7777777777777778,
             "#fb9f3a"
            ],
            [
             0.8888888888888888,
             "#fdca26"
            ],
            [
             1,
             "#f0f921"
            ]
           ],
           "sequentialminus": [
            [
             0,
             "#0d0887"
            ],
            [
             0.1111111111111111,
             "#46039f"
            ],
            [
             0.2222222222222222,
             "#7201a8"
            ],
            [
             0.3333333333333333,
             "#9c179e"
            ],
            [
             0.4444444444444444,
             "#bd3786"
            ],
            [
             0.5555555555555556,
             "#d8576b"
            ],
            [
             0.6666666666666666,
             "#ed7953"
            ],
            [
             0.7777777777777778,
             "#fb9f3a"
            ],
            [
             0.8888888888888888,
             "#fdca26"
            ],
            [
             1,
             "#f0f921"
            ]
           ]
          },
          "colorway": [
           "#636efa",
           "#EF553B",
           "#00cc96",
           "#ab63fa",
           "#FFA15A",
           "#19d3f3",
           "#FF6692",
           "#B6E880",
           "#FF97FF",
           "#FECB52"
          ],
          "font": {
           "color": "#2a3f5f"
          },
          "geo": {
           "bgcolor": "white",
           "lakecolor": "white",
           "landcolor": "#E5ECF6",
           "showlakes": true,
           "showland": true,
           "subunitcolor": "white"
          },
          "hoverlabel": {
           "align": "left"
          },
          "hovermode": "closest",
          "mapbox": {
           "style": "light"
          },
          "paper_bgcolor": "white",
          "plot_bgcolor": "#E5ECF6",
          "polar": {
           "angularaxis": {
            "gridcolor": "white",
            "linecolor": "white",
            "ticks": ""
           },
           "bgcolor": "#E5ECF6",
           "radialaxis": {
            "gridcolor": "white",
            "linecolor": "white",
            "ticks": ""
           }
          },
          "scene": {
           "xaxis": {
            "backgroundcolor": "#E5ECF6",
            "gridcolor": "white",
            "gridwidth": 2,
            "linecolor": "white",
            "showbackground": true,
            "ticks": "",
            "zerolinecolor": "white"
           },
           "yaxis": {
            "backgroundcolor": "#E5ECF6",
            "gridcolor": "white",
            "gridwidth": 2,
            "linecolor": "white",
            "showbackground": true,
            "ticks": "",
            "zerolinecolor": "white"
           },
           "zaxis": {
            "backgroundcolor": "#E5ECF6",
            "gridcolor": "white",
            "gridwidth": 2,
            "linecolor": "white",
            "showbackground": true,
            "ticks": "",
            "zerolinecolor": "white"
           }
          },
          "shapedefaults": {
           "line": {
            "color": "#2a3f5f"
           }
          },
          "ternary": {
           "aaxis": {
            "gridcolor": "white",
            "linecolor": "white",
            "ticks": ""
           },
           "baxis": {
            "gridcolor": "white",
            "linecolor": "white",
            "ticks": ""
           },
           "bgcolor": "#E5ECF6",
           "caxis": {
            "gridcolor": "white",
            "linecolor": "white",
            "ticks": ""
           }
          },
          "title": {
           "x": 0.05
          },
          "xaxis": {
           "automargin": true,
           "gridcolor": "white",
           "linecolor": "white",
           "ticks": "",
           "title": {
            "standoff": 15
           },
           "zerolinecolor": "white",
           "zerolinewidth": 2
          },
          "yaxis": {
           "automargin": true,
           "gridcolor": "white",
           "linecolor": "white",
           "ticks": "",
           "title": {
            "standoff": 15
           },
           "zerolinecolor": "white",
           "zerolinewidth": 2
          }
         }
        }
       }
      },
      "text/html": [
       "<div>\n",
       "        \n",
       "        \n",
       "            <div id=\"049a919b-3616-415f-b311-380f96876a13\" class=\"plotly-graph-div\" style=\"height:525px; width:100%;\"></div>\n",
       "            <script type=\"text/javascript\">\n",
       "                require([\"plotly\"], function(Plotly) {\n",
       "                    window.PLOTLYENV=window.PLOTLYENV || {};\n",
       "                    \n",
       "                if (document.getElementById(\"049a919b-3616-415f-b311-380f96876a13\")) {\n",
       "                    Plotly.newPlot(\n",
       "                        '049a919b-3616-415f-b311-380f96876a13',\n",
       "                        [{\"marker\": {\"color\": [11, 11, 16, 16, 16, 18, 18, 18, 20, 20, 22, 22, 23, 30, 30, 30, 31, 31, 31, 33, 42, 43, 43, 50, 79, 106, 147, 149, 149, 149, 150, 151, 155, 156, 174, 189, 189, 211, 222, 223, 232, 234, 234, 245, 249, 249, 249, 249, 249, 249, 255, 308, 346, 358, 378, 391, 393, 398, 398, 398, 398, 486, 20, 20, 22, 31, 31, 35, 43, 46, 53, 83, 106, 139, 149, 151, 213, 221, 224, 229, 245, 252, 249, 255, 253, 255, 255, 255, 255, 308, 346, 371, 391, 398, 398, 495, 145, 229, 149, 79, 22, 30, 147, 31, 219, 226, 27, 30, 22, 154, 270, 65, 154, 221, 245, 378, 11, 378, 393, 11, 31, 0, 25, 367, 16, 380, 245, 378], \"colorscale\": [[0.0, \"rgb(176, 242, 188)\"], [0.16666666666666666, \"rgb(137, 232, 172)\"], [0.3333333333333333, \"rgb(103, 219, 165)\"], [0.5, \"rgb(76, 200, 163)\"], [0.6666666666666666, \"rgb(56, 178, 163)\"], [0.8333333333333334, \"rgb(44, 152, 160)\"], [1.0, \"rgb(37, 125, 152)\"]], \"showscale\": true, \"size\": 16}, \"mode\": \"markers\", \"text\": [\"2011 Dodge Ram 1500 ST (AutoNation Honda Renton - 11 mi.)\", \"2011 Dodge Ram 1500 SLT (Chrysler Dodge Jeep Ram of Seattle - 11 mi.)\", \"2010 Dodge Ram 1500 Sport (Advantage Auto Direct - 16 mi.)\", \"2010 Dodge Ram 1500 SLT (Seaview Buick GMC - 16 mi.)\", \"2006 Dodge Ram 1500 SLT (Northwest Motorsport - Lynnwood - 16 mi.)\", \"2008 Dodge Ram 1500 Laramie (ZAG Motors Lynnwood - 18 mi.)\", \"2010 Dodge Ram 1500 Laramie (Wheels & Deals - 18 mi.)\", \"2008 Dodge Ram 1500 SLT Quad Cab (Select Motor Auto Sales - 18 mi.)\", \"2011 Dodge Ram 1500  (ZAG Motors Everett - 20 mi.)\", \"2011 Dodge Ram 1500 SLT (Bayside Auto Sales - 20 mi.)\", \"2008 Dodge Ram 1500 SLT (S & S Best Auto Sales - 22 mi.)\", \"1999 Dodge Ram 1500 Club Cab (Boardwalk Motors - 22 mi.)\", \"2008 Dodge Ram 1500 SLT Quad Cab (Seattle Auto Deals - 23 mi.)\", \"2008 Dodge Ram 1500 SLT (HDs Auto Sales - 30 mi.)\", \"2011 Dodge Ram 1500 ST (AUTO DESTINATION - 30 mi.)\", \"2011 Dodge Ram 1500 SLT (HDs Auto Sales - 30 mi.)\", \"2005 Dodge Ram 1500 SLT (Sabeti Motors - 31 mi.)\", \"2010 Dodge Ram 1500 SLT (South Tacoma Motors Inc - 31 mi.)\", \"2011 Dodge Ram 1500 SLT (All American Motors - 31 mi.)\", \"2008 Dodge Ram 1500 ST Quad Cab (Kendall Ford of Marysville - 33 mi.)\", \"2009 Dodge Ram 1500 Sport (Art Gamblin Motors - 42 mi.)\", \"2008 Dodge Ram 1500 SLT (Rairdon's Dodge Chrysler Jeep Ram of Marysville - 43 mi.)\", \"2011 Dodge Ram 1500 BIG HORN (Rairdon's Dodge Chrysler Jeep Ram of Marysville - 43 mi.)\", \"2006 Dodge Ram 1500 SLT (Rocha Family Auto Sales - 50 mi.)\", \"2011 Dodge Ram 1500 TRADESMAN R/CAB LWB ONLY 35K MILES (Community First Auto Centers - 79 mi.)\", \"2006 Dodge Ram 1500 SLT Quad Cab (BBL Auto Sales & Auto Detail Salon - 106 mi.)\", \"2007 Dodge Ram 1500 SLT (Gresham Toyota - 147 mi.)\", \"2006 Dodge Ram 1500 SLT (Bickmore Auto Sales - 149 mi.)\", \"2001 Dodge Ram 1500 Quad Cab (Bickmore Auto Sales - 149 mi.)\", \"2007 Dodge Ram 1500 ST Quad Cab (Columbia Motors - 149 mi.)\", \"2004 Dodge Ram 1500 SRT-10 (Executive Autosport - 150 mi.)\", \"1998 Dodge Ram 1500 Laramie Quad Cab (Steve & Sons Auto Sales & Rv's Llc - 151 mi.)\", \"2010 Dodge Ram 1500 Laramie (Beaverton Car Company - 155 mi.)\", \"2005 Dodge Ram 1500 SLT (Jake Berg Auto Sales - 156 mi.)\", \"2005 Dodge Ram 1500 SLT/Laramie Quad Cab (Lithia Chrysler Jeep Dodge Ram FIAT of Tri-Cities - 174 mi.)\", \"2011 Dodge Ram 1500 Sport (Volkswagen of Salem - 189 mi.)\", \"2011 Dodge Ram 1500 ST (Volkswagen of Salem - 189 mi.)\", \"2001 Dodge Ram 1500 SLT Quad Cab (Albany Chrysler Dodge Jeep Ram Hyundai - 211 mi.)\", \"2005 Dodge Ram 1500 SLT (Power Ford Lincoln - 222 mi.)\", \"2010 Dodge Ram 1500 SLT (Larry H. Miller Downtown Toyota Spokane - 223 mi.)\", \"2011 Dodge Ram 1500 Sport (Freedom Auto Sales - 232 mi.)\", \"2011 Dodge Ram 1500 Laramie (Northwest Motorsport - Spokane - 234 mi.)\", \"2009 Dodge Ram 1500 SLT (Gee NW Auto Lending - 234 mi.)\", \"2001 Dodge Ram 1500 Quad Cab (NW Group Post Falls - 245 mi.)\", \"2001 Dodge Ram 1500 Quad Cab (Lithia Toyota of Springfield - 249 mi.)\", \"2008 Dodge Ram 1500 SLT (Lithia Nissan Of Eugene - 249 mi.)\", \"2011 Dodge Ram 1500 ST (Lithia Toyota of Springfield - 249 mi.)\", \"2009 Dodge Ram 1500 SLT (Lithia Toyota of Springfield - 249 mi.)\", \"2010 Dodge Ram 1500 SLT (Lithia Nissan Of Eugene - 249 mi.)\", \"2010 Dodge Ram 1500 Laramie (Lithia Toyota of Springfield - 249 mi.)\", \"2011 Dodge Ram 1500 Sport (Audi Bend - 255 mi.)\", \"2009 Dodge Ram 1500 Laramie (Lithia Chrysler Jeep Dodge Ram FIAT of Roseburg - 308 mi.)\", \"2002 Dodge Ram 1500 Quad Cab (Steve's Hometown Toyota - 346 mi.)\", \"2011 Dodge Ram 1500 ST (Klamath Falls Toyota - 358 mi.)\", \"2011 Dodge Ram 1500 Sport (Auto Town USA - 378 mi.)\", \"2006 Dodge Ram 1500 ST (Peterson Chrysler Dodge Jeep Ram - 391 mi.)\", \"2011 Dodge Ram 1500 Laramie (Boise's Best Auto Sales - 393 mi.)\", \"2005 Dodge Ram 1500 SRT-10 (Northwest Motorsport - Boise - 398 mi.)\", \"2008 Dodge Ram 1500 Laramie (Peterson Auto Group - 398 mi.)\", \"2011 Dodge Ram 1500 Sport (Image Auto Sales - 398 mi.)\", \"2007 Dodge Ram 1500 SLT (Image Auto Sales - 398 mi.)\", \"2011 Dodge Ram 1500 OUTDOORSMAN (Auto West - 486 mi.)\", \"2006 Dodge Ram 1500  (Bayside Auto Sales - 20 mi.)\", \"2008 Dodge Ram 1500 ST Quad Cab (Bayside Auto Sales - 20 mi.)\", \"2009 Dodge Ram 1500 Laramie (Boardwalk Motors - 22 mi.)\", \"2009 Dodge Ram 1500 SLT (Gilchrist Chevrolet Buick GMC - 31 mi.)\", \"2011 Dodge Ram 1500 Big Horn (Tacoma Pre-Owned Supercenter - 31 mi.)\", \"2008 Dodge Ram 1500 SLT (Maxx Autos Plus Tacoma - 35 mi.)\", \"2008 Dodge Ram 1500 Laramie (Rairdon's Dodge Chrysler Jeep Ram of Marysville - 43 mi.)\", \"2003 Dodge Ram 1500 SLT/Laramie Quad Cab (507 Motorsports - 46 mi.)\", \"2007 Dodge Ram 1500 SLT (Mullinax Ford of Olympia - 53 mi.)\", \"2007 Dodge Ram 1500 SLT (Northwest Chevrolet of Bellingham - 83 mi.)\", \"2006 Dodge Ram 1500 Laramie (Steve Hahn Auto Group - 106 mi.)\", \"2006 Dodge Ram 1500 ST (Alan Webb Chevrolet - 139 mi.)\", \"2006 Dodge Ram 1500 SLT (Buick GMC of Beaverton - 149 mi.)\", \"1995 Dodge Ram 1500 ST (Ripcity Cars LLC - 151 mi.)\", \"2004 Dodge Ram 1500  (Tommy's 9th Street Auto - 213 mi.)\", \"2009 Dodge Ram 1500 SLT (Parkway Auto - 221 mi.)\", \"2006 Dodge Ram 1500 SLT (ClickIt Auto & RV Wandermere - 224 mi.)\", \"2009 Dodge Ram 1500 SLT/Sport/TRX (AutoNation Chevrolet Spokane Valley - 229 mi.)\", \"2011 Dodge Ram 1500 SLT (Findlay Chrysler Jeep Dodge Ram - 245 mi.)\", \"2008 Dodge Ram 1500 SLT (Pacific Cars and Trucks - 252 mi.)\", \"2008 Dodge Ram 1500 SLT (Lithia Chrysler Jeep Dodge Ram FIAT of Eugene - 249 mi.)\", \"2008 Dodge Ram 1500 Laramie (Kendall Toyota of Bend - 255 mi.)\", \"2010 Dodge Ram 1500 SLT (Legacy Ford - 253 mi.)\", \"1998 Dodge Ram 1500 Quad Cab (Dave Smith Coeur d'Alene - 255 mi.)\", \"2007 Dodge Ram 1500 SLT (Dave Smith Coeur d'Alene - 255 mi.)\", \"2008 Dodge Ram 1500 SLT (Dave Smith Coeur d'Alene - 255 mi.)\", \"2011 Dodge Ram 1500 ST (Dave Smith Coeur d'Alene - 255 mi.)\", \"2004 Dodge Ram 1500 SLT/Laramie Quad Cab (Lithia Ford Lincoln of Roseburg - 308 mi.)\", \"2004 Dodge Ram 1500 SLT (Ontario Auto Ranch - 346 mi.)\", \"2007 Dodge Ram 1500 SLT (HIGH ROAD AUTOS LLC - 371 mi.)\", \"2006 Dodge Ram 1500 SLT (Kendall at the Idaho Center Automall - 391 mi.)\", \"2011 Dodge Ram 1500 Sport (Peterson Auto Group - 398 mi.)\", \"2008 Dodge Ram 1500 Laramie (Peterson Auto Group - 398 mi.)\", \"2004 Dodge Ram 1500 SLT/Laramie Quad Cab (Advanced Auto Wholesale - 495 mi.)\", \"2011 Dodge Ram 1500 OUTDOORSMAN 6.3 FT. (Portland Auto Sales - 145 mi.)\", \"2011 Dodge Ram 1500 SLT (Alliance Imports and Auto Sales - 229 mi.)\", \"2004 Dodge Ram 1500 SLT/Laramie Quad Cab (Bickmore Auto Sales - 149 mi.)\", \"2011 Dodge Ram 1500 Laramie (I-5 Toyota - 79 mi.)\", \"2009 Dodge Ram 1500 SLT (Energy Auto Sales - 22 mi.)\", \"2007 Dodge Ram 1500 BIG HORN (Market Place Auto - 30 mi.)\", \"2002 Dodge Ram 1500 Quad Cab (TRED Private Seller (Portland) - 147 mi.)\", \"2011 Dodge Ram 1500 Laramie (Mountain Loop Motors - 31 mi.)\", \"2011 Dodge Ram 1500  (Country Chevrolet Buick - 219 mi.)\", \"2008 Dodge Ram 1500 SLT (Globe Motors - 226 mi.)\", \"2008 Dodge Ram 1500 ST/SXT (Truck Town - 27 mi.)\", \"2011 Dodge Ram 1500 ST (Market Place Auto - 30 mi.)\", \"2010 Dodge Ram 1500 Laramie (Boardwalk Motors - 22 mi.)\", \"2006 Dodge Ram 1500 SLT (Lot 99 - 154 mi.)\", \"2011 Dodge Ram 1500 SLT (Valley Car Sales - 270 mi.)\", \"2007 Dodge Ram 1500 ST Quad Cab (Frontier Ford - 65 mi.)\", \"2010 Dodge Ram 1500 SLT (Lot 99 - 154 mi.)\", \"1999 Dodge Ram 1500 Quad Cab (Parkway Auto - 221 mi.)\", \"2010 Dodge Ram 1500 LIFTED AMAZING CONDITION (NW Group Post Falls - 245 mi.)\", \"2008 Dodge Ram 1500 SLT (Auto Town USA - 378 mi.)\", \"2011 Dodge Ram 1500 Sport (Good Chevrolet - 11 mi.)\", \"2006 Dodge Ram 1500 SLT (Auto Town USA - 378 mi.)\", \"2007 Dodge Ram 1500 SLT (Dale's Auto Sales - 393 mi.)\", \"2010 Dodge Ram 1500 Laramie (Younker Nissan - 11 mi.)\", \"2010 Dodge Ram 1500 ST (South Tacoma Auto - 31 mi.)\", \"2006 Dodge Ram 1500 SLT/TRX4 Off-Road/Sport (AutoNation Ford Bellevue - 0 mi.)\", \"2005 Dodge Ram 1500  (Seattle Auto Haus LLC - 25 mi.)\", \"2011 Dodge Ram 1500 SLT (Lithia Chrysler Jeep Dodge of Medford - 367 mi.)\", \"2008 Dodge Ram 1500 SLT (Seaview Buick GMC - 16 mi.)\", \"2011 Dodge Ram 1500 SLT (Lithia Chrysler Jeep Dodge RAM of Klamath Falls - 380 mi.)\", \"2011 Dodge Ram 1500 BIG HORN (NW Group Post Falls - 245 mi.)\", \"2002 Dodge Ram 1500 Quad Cab (Lithia Ford of Missoula - 378 mi.)\"], \"type\": \"scatter\", \"x\": [101546, 154514, 75374, 176386, 105140, 120181, 95702, 132478, 101067, 157353, 92909, 186016, 152696, 92816, 84948, 112229, 16541, 169000, 153075, 171225, 154889, 145564, 131623, 103330, 35612, 182911, 107416, 137297, 92673, 118476, 19040, 187718, 99157, 107987, 107873, 73122, 79613, 108006, 172382, 104845, 144956, 61620, 187753, 139403, 124965, 135913, 87322, 152677, 150638, 71488, 109264, 174629, 172442, 72824, 63064, 107280, 108140, 22625, 127764, 174766, 168439, 188400, 226943, 148586, 109398, 95630, 0, 103409, 176554, 0, 133718, 128190, 105544, 166967, 94101, 81373, 145000, 136689, 193406, 98188, 117909, 0, 104413, 124124, 229218, 141341, 203301, 86871, 147001, 148227, 160365, 112738, 114209, 99666, 151695, 145992, 105377, 127029, 159013, 149112, 154618, 156362, 60000, 117450, 101051, 133972, 135868, 92807, 78382, 158614, 183840, 130403, 250064, 219728, 128311, 61005, 131931, 131073, 85108, 84277, 75386, 190462, 161829, 78783, 93404, 86037, 62070, 200925], \"y\": [19995, 12999, 27500, 14495, 17999, 19995, 23488, 16988, 29995, 18999, 17498, 10885, 9997, 16999, 22923, 21999, 35990, 19900, 17871, 14971, 17921, 15441, 16583, 14990, 20850, 11995, 14022, 16988, 10488, 15991, 38999, 7995, 23225, 15995, 14491, 25990, 19990, 9000, 11995, 21999, 19995, 29999, 14495, 5750, 9995, 19490, 20995, 15990, 19490, 28000, 22995, 11962, 8986, 20977, 25998, 9613, 23499, 38899, 16763, 18421, 12221, 14995, 10999, 17888, 20885, 18987, 23781, 17850, 14143, 8995, 15433, 17899, 16995, 9999, 13990, 8995, 9999, 15995, 11777, 18995, 19998, 14995, 19990, 17922, 11895, 8998, 9998, 16998, 13998, 10995, 9987, 18154, 12995, 24149, 15736, 11995, 18965, 17450, 13988, 20830, 17391, 15881, 18500, 24999, 26999, 13995, 11999, 19988, 26885, 10995, 15995, 13877, 10995, 7495, 23000, 24998, 21405, 15998, 11950, 26782, 17800, 9991, 10789, 23998, 18990, 19995, 23995, 6777]}],\n",
       "                        {\"template\": {\"data\": {\"bar\": [{\"error_x\": {\"color\": \"#2a3f5f\"}, \"error_y\": {\"color\": \"#2a3f5f\"}, \"marker\": {\"line\": {\"color\": \"#E5ECF6\", \"width\": 0.5}}, \"type\": \"bar\"}], \"barpolar\": [{\"marker\": {\"line\": {\"color\": \"#E5ECF6\", \"width\": 0.5}}, \"type\": \"barpolar\"}], \"carpet\": [{\"aaxis\": {\"endlinecolor\": \"#2a3f5f\", \"gridcolor\": \"white\", \"linecolor\": \"white\", \"minorgridcolor\": \"white\", \"startlinecolor\": \"#2a3f5f\"}, \"baxis\": {\"endlinecolor\": \"#2a3f5f\", \"gridcolor\": \"white\", \"linecolor\": \"white\", \"minorgridcolor\": \"white\", \"startlinecolor\": \"#2a3f5f\"}, \"type\": \"carpet\"}], \"choropleth\": [{\"colorbar\": {\"outlinewidth\": 0, \"ticks\": \"\"}, \"type\": \"choropleth\"}], \"contour\": [{\"colorbar\": {\"outlinewidth\": 0, \"ticks\": \"\"}, \"colorscale\": [[0.0, \"#0d0887\"], [0.1111111111111111, \"#46039f\"], [0.2222222222222222, \"#7201a8\"], [0.3333333333333333, \"#9c179e\"], [0.4444444444444444, \"#bd3786\"], [0.5555555555555556, \"#d8576b\"], [0.6666666666666666, \"#ed7953\"], [0.7777777777777778, \"#fb9f3a\"], [0.8888888888888888, \"#fdca26\"], [1.0, \"#f0f921\"]], \"type\": \"contour\"}], \"contourcarpet\": [{\"colorbar\": {\"outlinewidth\": 0, \"ticks\": \"\"}, \"type\": \"contourcarpet\"}], \"heatmap\": [{\"colorbar\": {\"outlinewidth\": 0, \"ticks\": \"\"}, \"colorscale\": [[0.0, \"#0d0887\"], [0.1111111111111111, \"#46039f\"], [0.2222222222222222, \"#7201a8\"], [0.3333333333333333, \"#9c179e\"], [0.4444444444444444, \"#bd3786\"], [0.5555555555555556, \"#d8576b\"], [0.6666666666666666, \"#ed7953\"], [0.7777777777777778, \"#fb9f3a\"], [0.8888888888888888, \"#fdca26\"], [1.0, \"#f0f921\"]], \"type\": \"heatmap\"}], \"heatmapgl\": [{\"colorbar\": {\"outlinewidth\": 0, \"ticks\": \"\"}, \"colorscale\": [[0.0, \"#0d0887\"], [0.1111111111111111, \"#46039f\"], [0.2222222222222222, \"#7201a8\"], [0.3333333333333333, \"#9c179e\"], [0.4444444444444444, \"#bd3786\"], [0.5555555555555556, \"#d8576b\"], [0.6666666666666666, \"#ed7953\"], [0.7777777777777778, \"#fb9f3a\"], [0.8888888888888888, \"#fdca26\"], [1.0, \"#f0f921\"]], \"type\": \"heatmapgl\"}], \"histogram\": [{\"marker\": {\"colorbar\": {\"outlinewidth\": 0, \"ticks\": \"\"}}, \"type\": \"histogram\"}], \"histogram2d\": [{\"colorbar\": {\"outlinewidth\": 0, \"ticks\": \"\"}, \"colorscale\": [[0.0, \"#0d0887\"], [0.1111111111111111, \"#46039f\"], [0.2222222222222222, \"#7201a8\"], [0.3333333333333333, \"#9c179e\"], [0.4444444444444444, \"#bd3786\"], [0.5555555555555556, \"#d8576b\"], [0.6666666666666666, \"#ed7953\"], [0.7777777777777778, \"#fb9f3a\"], [0.8888888888888888, \"#fdca26\"], [1.0, \"#f0f921\"]], \"type\": \"histogram2d\"}], \"histogram2dcontour\": [{\"colorbar\": {\"outlinewidth\": 0, \"ticks\": \"\"}, \"colorscale\": [[0.0, \"#0d0887\"], [0.1111111111111111, \"#46039f\"], [0.2222222222222222, \"#7201a8\"], [0.3333333333333333, \"#9c179e\"], [0.4444444444444444, \"#bd3786\"], [0.5555555555555556, \"#d8576b\"], [0.6666666666666666, \"#ed7953\"], [0.7777777777777778, \"#fb9f3a\"], [0.8888888888888888, \"#fdca26\"], [1.0, \"#f0f921\"]], \"type\": \"histogram2dcontour\"}], \"mesh3d\": [{\"colorbar\": {\"outlinewidth\": 0, \"ticks\": \"\"}, \"type\": \"mesh3d\"}], \"parcoords\": [{\"line\": {\"colorbar\": {\"outlinewidth\": 0, \"ticks\": \"\"}}, \"type\": \"parcoords\"}], \"pie\": [{\"automargin\": true, \"type\": \"pie\"}], \"scatter\": [{\"marker\": {\"colorbar\": {\"outlinewidth\": 0, \"ticks\": \"\"}}, \"type\": \"scatter\"}], \"scatter3d\": [{\"line\": {\"colorbar\": {\"outlinewidth\": 0, \"ticks\": \"\"}}, \"marker\": {\"colorbar\": {\"outlinewidth\": 0, \"ticks\": \"\"}}, \"type\": \"scatter3d\"}], \"scattercarpet\": [{\"marker\": {\"colorbar\": {\"outlinewidth\": 0, \"ticks\": \"\"}}, \"type\": \"scattercarpet\"}], \"scattergeo\": [{\"marker\": {\"colorbar\": {\"outlinewidth\": 0, \"ticks\": \"\"}}, \"type\": \"scattergeo\"}], \"scattergl\": [{\"marker\": {\"colorbar\": {\"outlinewidth\": 0, \"ticks\": \"\"}}, \"type\": \"scattergl\"}], \"scattermapbox\": [{\"marker\": {\"colorbar\": {\"outlinewidth\": 0, \"ticks\": \"\"}}, \"type\": \"scattermapbox\"}], \"scatterpolar\": [{\"marker\": {\"colorbar\": {\"outlinewidth\": 0, \"ticks\": \"\"}}, \"type\": \"scatterpolar\"}], \"scatterpolargl\": [{\"marker\": {\"colorbar\": {\"outlinewidth\": 0, \"ticks\": \"\"}}, \"type\": \"scatterpolargl\"}], \"scatterternary\": [{\"marker\": {\"colorbar\": {\"outlinewidth\": 0, \"ticks\": \"\"}}, \"type\": \"scatterternary\"}], \"surface\": [{\"colorbar\": {\"outlinewidth\": 0, \"ticks\": \"\"}, \"colorscale\": [[0.0, \"#0d0887\"], [0.1111111111111111, \"#46039f\"], [0.2222222222222222, \"#7201a8\"], [0.3333333333333333, \"#9c179e\"], [0.4444444444444444, \"#bd3786\"], [0.5555555555555556, \"#d8576b\"], [0.6666666666666666, \"#ed7953\"], [0.7777777777777778, \"#fb9f3a\"], [0.8888888888888888, \"#fdca26\"], [1.0, \"#f0f921\"]], \"type\": \"surface\"}], \"table\": [{\"cells\": {\"fill\": {\"color\": \"#EBF0F8\"}, \"line\": {\"color\": \"white\"}}, \"header\": {\"fill\": {\"color\": \"#C8D4E3\"}, \"line\": {\"color\": \"white\"}}, \"type\": \"table\"}]}, \"layout\": {\"annotationdefaults\": {\"arrowcolor\": \"#2a3f5f\", \"arrowhead\": 0, \"arrowwidth\": 1}, \"coloraxis\": {\"colorbar\": {\"outlinewidth\": 0, \"ticks\": \"\"}}, \"colorscale\": {\"diverging\": [[0, \"#8e0152\"], [0.1, \"#c51b7d\"], [0.2, \"#de77ae\"], [0.3, \"#f1b6da\"], [0.4, \"#fde0ef\"], [0.5, \"#f7f7f7\"], [0.6, \"#e6f5d0\"], [0.7, \"#b8e186\"], [0.8, \"#7fbc41\"], [0.9, \"#4d9221\"], [1, \"#276419\"]], \"sequential\": [[0.0, \"#0d0887\"], [0.1111111111111111, \"#46039f\"], [0.2222222222222222, \"#7201a8\"], [0.3333333333333333, \"#9c179e\"], [0.4444444444444444, \"#bd3786\"], [0.5555555555555556, \"#d8576b\"], [0.6666666666666666, \"#ed7953\"], [0.7777777777777778, \"#fb9f3a\"], [0.8888888888888888, \"#fdca26\"], [1.0, \"#f0f921\"]], \"sequentialminus\": [[0.0, \"#0d0887\"], [0.1111111111111111, \"#46039f\"], [0.2222222222222222, \"#7201a8\"], [0.3333333333333333, \"#9c179e\"], [0.4444444444444444, \"#bd3786\"], [0.5555555555555556, \"#d8576b\"], [0.6666666666666666, \"#ed7953\"], [0.7777777777777778, \"#fb9f3a\"], [0.8888888888888888, \"#fdca26\"], [1.0, \"#f0f921\"]]}, \"colorway\": [\"#636efa\", \"#EF553B\", \"#00cc96\", \"#ab63fa\", \"#FFA15A\", \"#19d3f3\", \"#FF6692\", \"#B6E880\", \"#FF97FF\", \"#FECB52\"], \"font\": {\"color\": \"#2a3f5f\"}, \"geo\": {\"bgcolor\": \"white\", \"lakecolor\": \"white\", \"landcolor\": \"#E5ECF6\", \"showlakes\": true, \"showland\": true, \"subunitcolor\": \"white\"}, \"hoverlabel\": {\"align\": \"left\"}, \"hovermode\": \"closest\", \"mapbox\": {\"style\": \"light\"}, \"paper_bgcolor\": \"white\", \"plot_bgcolor\": \"#E5ECF6\", \"polar\": {\"angularaxis\": {\"gridcolor\": \"white\", \"linecolor\": \"white\", \"ticks\": \"\"}, \"bgcolor\": \"#E5ECF6\", \"radialaxis\": {\"gridcolor\": \"white\", \"linecolor\": \"white\", \"ticks\": \"\"}}, \"scene\": {\"xaxis\": {\"backgroundcolor\": \"#E5ECF6\", \"gridcolor\": \"white\", \"gridwidth\": 2, \"linecolor\": \"white\", \"showbackground\": true, \"ticks\": \"\", \"zerolinecolor\": \"white\"}, \"yaxis\": {\"backgroundcolor\": \"#E5ECF6\", \"gridcolor\": \"white\", \"gridwidth\": 2, \"linecolor\": \"white\", \"showbackground\": true, \"ticks\": \"\", \"zerolinecolor\": \"white\"}, \"zaxis\": {\"backgroundcolor\": \"#E5ECF6\", \"gridcolor\": \"white\", \"gridwidth\": 2, \"linecolor\": \"white\", \"showbackground\": true, \"ticks\": \"\", \"zerolinecolor\": \"white\"}}, \"shapedefaults\": {\"line\": {\"color\": \"#2a3f5f\"}}, \"ternary\": {\"aaxis\": {\"gridcolor\": \"white\", \"linecolor\": \"white\", \"ticks\": \"\"}, \"baxis\": {\"gridcolor\": \"white\", \"linecolor\": \"white\", \"ticks\": \"\"}, \"bgcolor\": \"#E5ECF6\", \"caxis\": {\"gridcolor\": \"white\", \"linecolor\": \"white\", \"ticks\": \"\"}}, \"title\": {\"x\": 0.05}, \"xaxis\": {\"automargin\": true, \"gridcolor\": \"white\", \"linecolor\": \"white\", \"ticks\": \"\", \"title\": {\"standoff\": 15}, \"zerolinecolor\": \"white\", \"zerolinewidth\": 2}, \"yaxis\": {\"automargin\": true, \"gridcolor\": \"white\", \"linecolor\": \"white\", \"ticks\": \"\", \"title\": {\"standoff\": 15}, \"zerolinecolor\": \"white\", \"zerolinewidth\": 2}}}},\n",
       "                        {\"responsive\": true}\n",
       "                    ).then(function(){\n",
       "                            \n",
       "var gd = document.getElementById('049a919b-3616-415f-b311-380f96876a13');\n",
       "var x = new MutationObserver(function (mutations, observer) {{\n",
       "        var display = window.getComputedStyle(gd).display;\n",
       "        if (!display || display === 'none') {{\n",
       "            console.log([gd, 'removed!']);\n",
       "            Plotly.purge(gd);\n",
       "            observer.disconnect();\n",
       "        }}\n",
       "}});\n",
       "\n",
       "// Listen for the removal of the full notebook cells\n",
       "var notebookContainer = gd.closest('#notebook-container');\n",
       "if (notebookContainer) {{\n",
       "    x.observe(notebookContainer, {childList: true});\n",
       "}}\n",
       "\n",
       "// Listen for the clearing of the current output cell\n",
       "var outputEl = gd.closest('.output');\n",
       "if (outputEl) {{\n",
       "    x.observe(outputEl, {childList: true});\n",
       "}}\n",
       "\n",
       "                        })\n",
       "                };\n",
       "                });\n",
       "            </script>\n",
       "        </div>"
      ]
     },
     "metadata": {},
     "output_type": "display_data"
    }
   ],
   "source": [
    "import plotly.graph_objects as go\n",
    "\n",
    "data = df_final\n",
    "data['Plot Caption'] = ''\n",
    "for j in range(0, len(data)):\n",
    "  data.at[j, 'Plot Caption'] = data.iloc[j]['Year'] + ' ' + data.iloc[j]['Name'] + ' (' + data.iloc[j]['Dealer'] + ' - ' + str(data.iloc[j]['Distance']) + ' mi.)'\n",
    "\n",
    "fig = go.Figure(data=go.Scatter(\n",
    "    x = data['Mileage'],\n",
    "    y = data['List Price'],\n",
    "    mode='markers',\n",
    "    marker=dict(\n",
    "        size=16,\n",
    "        color=data['Distance'], #set color equal to a variable\n",
    "        colorscale='Tealgrn', # one of plotly colorscales\n",
    "        showscale=True\n",
    "    ),\n",
    "    text=data['Plot Caption']\n",
    "))\n",
    "\n",
    "fig.show()"
   ]
  },
  {
   "cell_type": "code",
   "execution_count": null,
   "metadata": {
    "hideCode": true,
    "hidePrompt": true
   },
   "outputs": [],
   "source": []
  }
 ],
 "metadata": {
  "hide_code_all_hidden": true,
  "kernelspec": {
   "display_name": "Python 3",
   "language": "python",
   "name": "python3"
  },
  "language_info": {
   "codemirror_mode": {
    "name": "ipython",
    "version": 3
   },
   "file_extension": ".py",
   "mimetype": "text/x-python",
   "name": "python",
   "nbconvert_exporter": "python",
   "pygments_lexer": "ipython3",
   "version": "3.7.3"
  }
 },
 "nbformat": 4,
 "nbformat_minor": 2
}
